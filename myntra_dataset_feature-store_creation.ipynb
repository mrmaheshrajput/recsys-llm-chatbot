{
 "cells": [
  {
   "cell_type": "code",
   "execution_count": 50,
   "id": "294f2f03",
   "metadata": {},
   "outputs": [],
   "source": [
    "import datetime\n",
    "import os\n",
    "\n",
    "import pandas as pd\n",
    "import numpy as np\n",
    "# import psycopg2 \n",
    "import sshtunnel\n",
    "import sqlalchemy\n",
    "from sqlalchemy.orm import Session\n",
    "from sentence_transformers import SentenceTransformer"
   ]
  },
  {
   "cell_type": "markdown",
   "id": "f9f1bd9d",
   "metadata": {},
   "source": [
    "**Load data**"
   ]
  },
  {
   "cell_type": "code",
   "execution_count": 7,
   "id": "9fc03669",
   "metadata": {},
   "outputs": [],
   "source": [
    "DATA_DIR = \"./data\"\n",
    "FILE_NAME = \"products_catalog.csv\"\n",
    "\n",
    "raw_df = pd.read_csv(os.path.join(DATA_DIR, FILE_NAME))"
   ]
  },
  {
   "cell_type": "code",
   "execution_count": 8,
   "id": "a179a020",
   "metadata": {},
   "outputs": [
    {
     "name": "stdout",
     "output_type": "stream",
     "text": [
      "<class 'pandas.core.frame.DataFrame'>\n",
      "RangeIndex: 12491 entries, 0 to 12490\n",
      "Data columns (total 8 columns):\n",
      " #   Column        Non-Null Count  Dtype \n",
      "---  ------        --------------  ----- \n",
      " 0   ProductID     12491 non-null  int64 \n",
      " 1   ProductName   12491 non-null  object\n",
      " 2   ProductBrand  12491 non-null  object\n",
      " 3   Gender        12491 non-null  object\n",
      " 4   Price (INR)   12491 non-null  int64 \n",
      " 5   NumImages     12491 non-null  int64 \n",
      " 6   Description   12491 non-null  object\n",
      " 7   PrimaryColor  11597 non-null  object\n",
      "dtypes: int64(3), object(5)\n",
      "memory usage: 780.8+ KB\n"
     ]
    }
   ],
   "source": [
    "raw_df.info()"
   ]
  },
  {
   "cell_type": "code",
   "execution_count": 9,
   "id": "dfd15b8a",
   "metadata": {},
   "outputs": [
    {
     "data": {
      "text/html": [
       "<div>\n",
       "<style scoped>\n",
       "    .dataframe tbody tr th:only-of-type {\n",
       "        vertical-align: middle;\n",
       "    }\n",
       "\n",
       "    .dataframe tbody tr th {\n",
       "        vertical-align: top;\n",
       "    }\n",
       "\n",
       "    .dataframe thead th {\n",
       "        text-align: right;\n",
       "    }\n",
       "</style>\n",
       "<table border=\"1\" class=\"dataframe\">\n",
       "  <thead>\n",
       "    <tr style=\"text-align: right;\">\n",
       "      <th></th>\n",
       "      <th>ProductID</th>\n",
       "      <th>ProductName</th>\n",
       "      <th>ProductBrand</th>\n",
       "      <th>Gender</th>\n",
       "      <th>Price (INR)</th>\n",
       "      <th>NumImages</th>\n",
       "      <th>Description</th>\n",
       "      <th>PrimaryColor</th>\n",
       "    </tr>\n",
       "  </thead>\n",
       "  <tbody>\n",
       "    <tr>\n",
       "      <th>10078</th>\n",
       "      <td>10242895</td>\n",
       "      <td>Campus Men Grey Mesh Running Shoes</td>\n",
       "      <td>Campus</td>\n",
       "      <td>Men</td>\n",
       "      <td>799</td>\n",
       "      <td>5</td>\n",
       "      <td>A pair of grey running sports shoes, has regul...</td>\n",
       "      <td>Grey</td>\n",
       "    </tr>\n",
       "    <tr>\n",
       "      <th>11559</th>\n",
       "      <td>10260451</td>\n",
       "      <td>Peter England Men Blue Checked Slim Fit Formal...</td>\n",
       "      <td>Peter England</td>\n",
       "      <td>Men</td>\n",
       "      <td>884</td>\n",
       "      <td>6</td>\n",
       "      <td>Blue checked formal shirt, has a spread collar...</td>\n",
       "      <td>Blue</td>\n",
       "    </tr>\n",
       "    <tr>\n",
       "      <th>915</th>\n",
       "      <td>10006191</td>\n",
       "      <td>berrytree Girls Pink A-Line Organic Cotton Sus...</td>\n",
       "      <td>berrytree</td>\n",
       "      <td>Girls</td>\n",
       "      <td>599</td>\n",
       "      <td>6</td>\n",
       "      <td>Pink printed knitted A-line dress, has a round...</td>\n",
       "      <td>Pink</td>\n",
       "    </tr>\n",
       "  </tbody>\n",
       "</table>\n",
       "</div>"
      ],
      "text/plain": [
       "       ProductID                                        ProductName  \\\n",
       "10078   10242895                 Campus Men Grey Mesh Running Shoes   \n",
       "11559   10260451  Peter England Men Blue Checked Slim Fit Formal...   \n",
       "915     10006191  berrytree Girls Pink A-Line Organic Cotton Sus...   \n",
       "\n",
       "        ProductBrand Gender  Price (INR)  NumImages  \\\n",
       "10078         Campus    Men          799          5   \n",
       "11559  Peter England    Men          884          6   \n",
       "915        berrytree  Girls          599          6   \n",
       "\n",
       "                                             Description PrimaryColor  \n",
       "10078  A pair of grey running sports shoes, has regul...         Grey  \n",
       "11559  Blue checked formal shirt, has a spread collar...         Blue  \n",
       "915    Pink printed knitted A-line dress, has a round...         Pink  "
      ]
     },
     "execution_count": 9,
     "metadata": {},
     "output_type": "execute_result"
    }
   ],
   "source": [
    "raw_df.sample(3)"
   ]
  },
  {
   "cell_type": "markdown",
   "id": "033ea17c",
   "metadata": {},
   "source": [
    "### Converting `ProductName` to embeddings"
   ]
  },
  {
   "cell_type": "code",
   "execution_count": 52,
   "id": "2db03916",
   "metadata": {},
   "outputs": [],
   "source": [
    "MODEL_PATH = \"./embedding_model\""
   ]
  },
  {
   "cell_type": "code",
   "execution_count": 53,
   "id": "e7b6cd2e",
   "metadata": {},
   "outputs": [],
   "source": [
    "embedding_model = SentenceTransformer(MODEL_PATH) #\"all-mpnet-base-v2\""
   ]
  },
  {
   "cell_type": "code",
   "execution_count": 44,
   "id": "da60f499",
   "metadata": {},
   "outputs": [],
   "source": [
    "# embedding_model.save(MODEL_PATH)"
   ]
  },
  {
   "cell_type": "code",
   "execution_count": 43,
   "id": "08ec9321",
   "metadata": {},
   "outputs": [
    {
     "name": "stdout",
     "output_type": "stream",
     "text": [
      "CPU times: user 19min 48s, sys: 2.31 s, total: 19min 50s\n",
      "Wall time: 5min 24s\n"
     ]
    }
   ],
   "source": [
    "%%time\n",
    "\n",
    "product_name_embeddings = embedding_model.encode(raw_df[\"ProductName\"].values)"
   ]
  },
  {
   "cell_type": "code",
   "execution_count": 10,
   "id": "25bbc97f",
   "metadata": {},
   "outputs": [],
   "source": [
    "EMBEDDING_FILE_NAME = \"product_name_embeddings.pk\""
   ]
  },
  {
   "cell_type": "code",
   "execution_count": 14,
   "id": "105a86bd",
   "metadata": {},
   "outputs": [
    {
     "data": {
      "text/plain": [
       "(12491, 768)"
      ]
     },
     "execution_count": 14,
     "metadata": {},
     "output_type": "execute_result"
    }
   ],
   "source": [
    "import pickle\n",
    "\n",
    "# with open(\"./product_name_embeddings.pk\", \"wb\") as f:\n",
    "#     pickle.dump(product_name_embeddings, f)\n",
    "    \n",
    "with open(os.path.join(DATA_DIR, EMBEDDING_FILE_NAME), \"rb\") as f:\n",
    "    product_name_embeddings = pickle.load(f)\n",
    "    \n",
    "product_name_embeddings.shape"
   ]
  },
  {
   "cell_type": "code",
   "execution_count": 15,
   "id": "7539e6ab",
   "metadata": {},
   "outputs": [],
   "source": [
    "product_name_embeddings_dict = [\n",
    "    {\"ProductID\":raw_df[\"ProductID\"].values[i],\"embeddings\":product_name_embeddings[i]} for i in range(len(product_name_embeddings))\n",
    "]"
   ]
  },
  {
   "cell_type": "markdown",
   "id": "eff5fee2",
   "metadata": {},
   "source": [
    "### Uploading data to feature store"
   ]
  },
  {
   "cell_type": "code",
   "execution_count": 23,
   "id": "3263aebe",
   "metadata": {
    "scrolled": false
   },
   "outputs": [
    {
     "data": {
      "text/plain": [
       "(12491, 9)"
      ]
     },
     "execution_count": 23,
     "metadata": {},
     "output_type": "execute_result"
    }
   ],
   "source": [
    "df = raw_df.merge(\n",
    "    pd.DataFrame(product_name_embeddings_dict),\n",
    "    on=\"ProductID\",\n",
    "    how=\"left\"\n",
    ")\n",
    "\n",
    "df.shape"
   ]
  },
  {
   "cell_type": "markdown",
   "id": "ed770c07",
   "metadata": {},
   "source": [
    "<font color=\"blue\">I was using Aurora Serverless postgres db with pgvector extension on AWS for vector storage and retrieval. Aurora Serverless cannot be access from outside VPC, so I setup a bastion server, and use SSHTunnel to connect to db via bastion server.</font>"
   ]
  },
  {
   "cell_type": "code",
   "execution_count": 32,
   "id": "c4a10b2d",
   "metadata": {},
   "outputs": [],
   "source": [
    "ec2_url = \"\"\n",
    "\n",
    "dbhost = \"\"\n",
    "dbport = 1111\n",
    "dbuser = \"\"\n",
    "dbpass = \"\"\n",
    "\n",
    "server = sshtunnel.SSHTunnelForwarder(\n",
    "    ssh_address_or_host=(ec2_url, 22),\n",
    "    ssh_username=\"\",\n",
    "    ssh_pkey=\"\",\n",
    "    remote_bind_address=(dbhost, dbport),\n",
    "    local_bind_address=(\"localhost\", 5433),\n",
    ")"
   ]
  },
  {
   "cell_type": "markdown",
   "id": "8ffbdd96",
   "metadata": {},
   "source": [
    "**Table (or model)**"
   ]
  },
  {
   "cell_type": "code",
   "execution_count": 30,
   "id": "c641cd9b",
   "metadata": {},
   "outputs": [],
   "source": [
    "from pgvector.sqlalchemy import Vector\n",
    "import sqlalchemy\n",
    "from sqlalchemy.orm import DeclarativeBase,mapped_column\n",
    "from sqlalchemy import Integer, String, TIMESTAMP, Float\n",
    "\n",
    "EMBEDDINGS_LENGTH = df[\"embeddings\"].iloc[0].shape[0]\n",
    "\n",
    "class Base(DeclarativeBase):\n",
    "    pass\n",
    "\n",
    "class Products(Base):\n",
    "    __tablename__ = \"products\"\n",
    "    __table_args__ = {'extend_existing': True}\n",
    "\n",
    "    pid = mapped_column(Integer, primary_key=True)\n",
    "    pname = mapped_column(String)\n",
    "    brand = mapped_column(String)\n",
    "    gender = mapped_column(String)\n",
    "    price = mapped_column(Float)\n",
    "    n_images = mapped_column(Integer)\n",
    "    description = mapped_column(String)\n",
    "    color = mapped_column(String)\n",
    "    embeddings = mapped_column(Vector(EMBEDDINGS_LENGTH))\n",
    "    added_timestamp = mapped_column(TIMESTAMP)"
   ]
  },
  {
   "cell_type": "code",
   "execution_count": null,
   "id": "7f78d723",
   "metadata": {},
   "outputs": [],
   "source": [
    "server.start()\n",
    "\n",
    "engine = sqlalchemy.create_engine(\n",
    "    f\"\"\"postgresql+psycopg2://{dbuser}:\"\"\"\n",
    "    f\"\"\"{dbpass}@{server.local_bind_host}:\"\"\"\n",
    "    f\"\"\"{server.local_bind_port}/feature_store\"\"\",\n",
    "    echo=False,\n",
    ")"
   ]
  },
  {
   "cell_type": "code",
   "execution_count": 34,
   "id": "eb99479b",
   "metadata": {},
   "outputs": [
    {
     "name": "stdout",
     "output_type": "stream",
     "text": [
      "2023-11-02 23:17:16,535 INFO sqlalchemy.engine.Engine select pg_catalog.version()\n",
      "2023-11-02 23:17:16,539 INFO sqlalchemy.engine.Engine [raw sql] {}\n",
      "2023-11-02 23:17:17,369 INFO sqlalchemy.engine.Engine select current_schema()\n",
      "2023-11-02 23:17:17,371 INFO sqlalchemy.engine.Engine [raw sql] {}\n",
      "2023-11-02 23:17:18,175 INFO sqlalchemy.engine.Engine show standard_conforming_strings\n",
      "2023-11-02 23:17:18,177 INFO sqlalchemy.engine.Engine [raw sql] {}\n",
      "2023-11-02 23:17:18,935 INFO sqlalchemy.engine.Engine BEGIN (implicit)\n",
      "2023-11-02 23:17:18,951 INFO sqlalchemy.engine.Engine SELECT pg_catalog.pg_class.relname \n",
      "FROM pg_catalog.pg_class JOIN pg_catalog.pg_namespace ON pg_catalog.pg_namespace.oid = pg_catalog.pg_class.relnamespace \n",
      "WHERE pg_catalog.pg_class.relname = %(table_name)s AND pg_catalog.pg_class.relkind = ANY (ARRAY[%(param_1)s, %(param_2)s, %(param_3)s, %(param_4)s, %(param_5)s]) AND pg_catalog.pg_table_is_visible(pg_catalog.pg_class.oid) AND pg_catalog.pg_namespace.nspname != %(nspname_1)s\n",
      "2023-11-02 23:17:18,953 INFO sqlalchemy.engine.Engine [generated in 0.00277s] {'table_name': 'products', 'param_1': 'r', 'param_2': 'p', 'param_3': 'f', 'param_4': 'v', 'param_5': 'm', 'nspname_1': 'pg_catalog'}\n",
      "2023-11-02 23:17:19,818 INFO sqlalchemy.engine.Engine COMMIT\n",
      "2023-11-02 23:17:20,255 INFO sqlalchemy.engine.Engine BEGIN (implicit)\n",
      "2023-11-02 23:17:20,257 INFO sqlalchemy.engine.Engine SELECT pg_catalog.pg_class.relname \n",
      "FROM pg_catalog.pg_class JOIN pg_catalog.pg_namespace ON pg_catalog.pg_namespace.oid = pg_catalog.pg_class.relnamespace \n",
      "WHERE pg_catalog.pg_class.relname = %(table_name)s AND pg_catalog.pg_class.relkind = ANY (ARRAY[%(param_1)s, %(param_2)s, %(param_3)s, %(param_4)s, %(param_5)s]) AND pg_catalog.pg_table_is_visible(pg_catalog.pg_class.oid) AND pg_catalog.pg_namespace.nspname != %(nspname_1)s\n",
      "2023-11-02 23:17:20,259 INFO sqlalchemy.engine.Engine [cached since 1.309s ago] {'table_name': 'products', 'param_1': 'r', 'param_2': 'p', 'param_3': 'f', 'param_4': 'v', 'param_5': 'm', 'nspname_1': 'pg_catalog'}\n",
      "2023-11-02 23:17:21,043 INFO sqlalchemy.engine.Engine \n",
      "CREATE TABLE products (\n",
      "\tpid SERIAL NOT NULL, \n",
      "\tpname VARCHAR, \n",
      "\tbrand VARCHAR, \n",
      "\tgender VARCHAR, \n",
      "\tprice FLOAT, \n",
      "\tn_images INTEGER, \n",
      "\tdescription VARCHAR, \n",
      "\tcolor VARCHAR, \n",
      "\tembeddings VECTOR(768), \n",
      "\tadded_timestamp TIMESTAMP WITHOUT TIME ZONE, \n",
      "\tPRIMARY KEY (pid)\n",
      ")\n",
      "\n",
      "\n",
      "2023-11-02 23:17:21,045 INFO sqlalchemy.engine.Engine [no key 0.00200s] {}\n",
      "2023-11-02 23:17:21,963 INFO sqlalchemy.engine.Engine COMMIT\n"
     ]
    }
   ],
   "source": [
    "Base.metadata.drop_all(engine)\n",
    "Base.metadata.create_all(engine)"
   ]
  },
  {
   "cell_type": "markdown",
   "id": "95d745b2",
   "metadata": {},
   "source": [
    "**Insert data in table**"
   ]
  },
  {
   "cell_type": "code",
   "execution_count": 40,
   "id": "07149dbb",
   "metadata": {},
   "outputs": [
    {
     "data": {
      "text/plain": [
       "['ProductID',\n",
       " 'ProductName',\n",
       " 'ProductBrand',\n",
       " 'Gender',\n",
       " 'Price (INR)',\n",
       " 'NumImages',\n",
       " 'Description',\n",
       " 'PrimaryColor',\n",
       " 'embeddings']"
      ]
     },
     "execution_count": 40,
     "metadata": {},
     "output_type": "execute_result"
    }
   ],
   "source": [
    "df.columns.tolist()"
   ]
  },
  {
   "cell_type": "code",
   "execution_count": 42,
   "id": "95a3cfc8",
   "metadata": {},
   "outputs": [
    {
     "data": {
      "text/plain": [
       "12491"
      ]
     },
     "execution_count": 42,
     "metadata": {},
     "output_type": "execute_result"
    }
   ],
   "source": [
    "df_dict = [{\"pid\":rec[\"ProductID\"],\"pname\":rec[\"ProductName\"],\"brand\":rec[\"ProductBrand\"],\"gender\":rec[\"Gender\"],\"price\":rec[\"Price (INR)\"],\"n_images\":rec[\"NumImages\"],\"description\":rec[\"Description\"],\"color\":rec[\"PrimaryColor\"],\"embeddings\":rec[\"embeddings\"],\"added_timestamp\":datetime.datetime.now()} for rec in df.to_dict(orient=\"records\")]\n",
    "\n",
    "assert(len(df_dict) == len(df))\n",
    "len(df_dict)"
   ]
  },
  {
   "cell_type": "code",
   "execution_count": 45,
   "id": "6698bdd4",
   "metadata": {
    "collapsed": true
   },
   "outputs": [
    {
     "name": "stdout",
     "output_type": "stream",
     "text": [
      "2023-11-02 23:24:31,115 INFO sqlalchemy.engine.Engine select pg_catalog.version()\n",
      "2023-11-02 23:24:31,117 INFO sqlalchemy.engine.Engine [raw sql] {}\n",
      "2023-11-02 23:24:31,938 INFO sqlalchemy.engine.Engine select current_schema()\n",
      "2023-11-02 23:24:31,940 INFO sqlalchemy.engine.Engine [raw sql] {}\n",
      "2023-11-02 23:24:32,708 INFO sqlalchemy.engine.Engine show standard_conforming_strings\n",
      "2023-11-02 23:24:32,710 INFO sqlalchemy.engine.Engine [raw sql] {}\n",
      "2023-11-02 23:24:33,574 INFO sqlalchemy.engine.Engine BEGIN (implicit)\n",
      "2023-11-02 23:24:40,983 INFO sqlalchemy.engine.Engine INSERT INTO products (pid, pname, brand, gender, price, n_images, description, color, embeddings, added_timestamp) VALUES (%(pid__0)s, %(pname__0)s, %(brand__0)s, %(gender__0)s, %(price__0)s, %(n_images__0)s, %(description__0)s, %(color__0)s, %(embed ... 183670 characters truncated ... _images__999)s, %(description__999)s, %(color__999)s, %(embeddings__999)s, %(added_timestamp__999)s)\n",
      "2023-11-02 23:24:40,983 INFO sqlalchemy.engine.Engine [generated in 7.25306s (insertmanyvalues) 1/13 (unordered)] {'gender__0': 'Unisex', 'description__0': 'Black and grey printed medium trolley bag, secured with a TSA lockOne handle on the top and one on the side, has a trolley with a retractable handle  ... (103 characters truncated) ... sion straps with click clasps, one zip compartment on the flap with three zip pocketsWarranty: 5 yearsWarranty provided by Brand Owner / Manufacturer', 'brand__0': 'DKNY', 'color__0': ' Black', 'embeddings__0': '[0.023021502420306206,-0.00501589197665453,-0.011468874290585518,0.023154305294156075,0.015724636614322662,0.014923237264156342,0.021021494641900063, ... (15919 characters truncated) ... 659897,0.0436650887131691,-0.024572961032390594,0.0721435621380806,0.00621217442676425,0.017840255051851273,-0.02156509831547737,-0.0313434973359108]', 'n_images__0': 7, 'price__0': 11745, 'pid__0': 10017413, 'added_timestamp__0': datetime.datetime(2023, 11, 2, 23, 23, 54, 284282), 'pname__0': 'DKNY Unisex Black & Grey Printed Medium Trolley Bag', 'gender__1': 'Women', 'description__1': 'Beige & Grey made to measure kurta with churidar and\\xa0dupattaBeige made to measure calf\\xa0length kurta, has a V-neck, three-quarter sleeves, light ... (328 characters truncated) ... ur arms and around your chest to find your bust size in inchesHow to measure Kurta length?Measure from shoulder till barefoot to find kurta length in', 'brand__1': 'EthnoVogue', 'color__1': ' Beige', 'embeddings__1': '[-0.009633546695113182,-0.026905901730060577,-0.0055635226890444756,0.024340761825442314,-0.014700877480208874,-0.01739208586513996,-0.02231008186936 ... (15880 characters truncated) ... .0032935100607573986,-0.03220221772789955,-0.028255652636289597,0.025555023923516273,0.05330973491072655,-0.027859441936016083,-0.014103377237915993]', 'n_images__1': 7, 'price__1': 5810, 'pid__1': 10016283, 'added_timestamp__1': datetime.datetime(2023, 11, 2, 23, 23, 54, 284293), 'pname__1': 'EthnoVogue Women Beige & Grey Made to Measure Custom Made Kurta Set with Jacket', 'gender__2': 'Women', 'description__2': 'Pink coloured wash 5-pocket high-rise cropped jeans, clean look, no fade, has a button and zip closure, and waistband with belt loops', 'brand__2': 'SPYKAR', 'color__2': ' Pink', 'embeddings__2': '[-0.014643712900578976,0.057657256722450256,0.022244352847337723,-0.019882408902049065,0.027151908725500107,-0.039173536002635956,-0.0370241887867450 ... (15922 characters truncated) ... -0.012261440977454185,-0.020391391590237617,0.015947123989462852,-0.005123620852828026,0.08491158485412598,-0.07100725173950195,-0.02764778770506382]', 'n_images__2': 7, 'price__2': 899, 'pid__2': 10009781, 'added_timestamp__2': datetime.datetime(2023, 11, 2, 23, 23, 54, 284297), 'pname__2': 'SPYKAR Women Pink Alexa Super Skinny Fit High-Rise Clean Look Stretchable Cropped Jeans', 'gender__3': 'Men', 'description__3': 'Blue self-design bandhgala suitBlue self-design bandhgala blazer, has a mandarin collar, single breasted with full button placket, long sleeves, thre ... (42 characters truncated) ... -vented back hemBlue self-design mid-rise trousers, has a zip fly with a button and a hook-and-bar closure, four pockets, a waistband with belt loops', 'brand__3': 'Raymond', 'color__3': 'Blue', 'embeddings__3': '[-0.0004313357931096107,-0.011626231484115124,-0.007033614907413721,-0.00802582036703825,-0.03314324468374252,-0.005753099452704191,0.036146193742752 ... (15917 characters truncated) ... 0504,0.015434212051331997,0.00676851999014616,0.0033644475042819977,0.01980353146791458,0.02101215533912182,0.0134508665651083,4.392437404021621e-05]', 'n_images__3': 5, 'price__3': 5599, 'pid__3': 10015921, 'added_timestamp__3': datetime.datetime(2023, 11, 2, 23, 23, 54, 284299), 'pname__3': 'Raymond Men Blue Self-Design Single-Breasted Bandhgala Suit', 'gender__4': 'Men', 'description__4': 'Brown and off-white printed casual shirt, has a spread collar, long sleeves, button placket,  curved hem, one patch pocket', 'brand__4': 'Parx', 'color__4': ' White', 'embeddings__4': '[-0.025429731234908104,-0.000965936342254281,0.02151116542518139,0.0159795843064785,-0.031137140467762947,-0.013735857792198658,-0.014223706908524036 ... (15951 characters truncated) ... 62,0.006227137520909309,0.0035797643940895796,-0.017503727227449417,0.024775924161076546,0.03354589641094208,0.013130851089954376,0.0386057011783123]', 'n_images__4': 5, 'price__4': 759, 'pid__4': 10017833, 'added_timestamp__4': datetime.datetime(2023, 11, 2, 23, 23, 54, 284301), 'pname__4': 'Parx Men Brown & Off-White Slim Fit Printed Casual Shirt' ... 9900 parameters truncated ... 'gender__995': 'Girls', 'description__995': 'Blue solid woven fit and flare dress, has a round neck, short sleeves, button closure, flared hem, embroidered detailing', 'brand__995': 'Bitiya by Bhama', 'color__995': 'Blue', 'embeddings__995': '[-0.01712631806731224,-0.040040772408246994,-0.023515278473496437,0.004895108751952648,0.0005531847709789872,-0.04085301235318184,-0.0599229931831359 ... (15945 characters truncated) ... ,0.014377949759364128,-0.008111576549708843,0.06427709758281708,-0.003906380385160446,0.06710070371627808,-0.05545926094055176,-0.016286401078104973]', 'n_images__995': 5, 'price__995': 739, 'pid__995': 10021513, 'added_timestamp__995': datetime.datetime(2023, 11, 2, 23, 23, 54, 286214), 'pname__995': 'Bitiya by Bhama Girls Blue Solid Chambray Fit and Flare Dress', 'gender__996': 'Men', 'description__996': 'A pair of round-toe burgundy loafers, has regular styling, slip-on detailSuede upperCushioned footbedTextured and patterned outsoleWarranty: 6 monthsWarranty provided by brand/manufacturer', 'brand__996': 'Geox', 'color__996': ' Burgundy', 'embeddings__996': '[0.017308438196778297,0.006680922117084265,0.01584770530462265,0.03535391390323639,-0.01941140554845333,0.03358660638332367,-0.03397224470973015,0.05 ... (15928 characters truncated) ... ,0.009207580238580704,0.02435772307217121,-0.04575737565755844,0.011168485507369041,-0.0015714219771325588,0.004717688076198101,0.018790578469634056]', 'n_images__996': 5, 'price__996': 5999, 'pid__996': 10029377, 'added_timestamp__996': datetime.datetime(2023, 11, 2, 23, 23, 54, 286216), 'pname__996': 'Geox Men Burgundy Suede Loafers', 'gender__997': 'Women', 'description__997': 'Brown and red solid kurta with palazzos Brown and red A-line calf length kurta, has a shirt collar, three-quarter sleeves, flared hem, multiple slitsBrown and red  Solid palazzos, has partially elasticated waistband, drawstring closure', 'brand__997': 'Tulsattva', 'color__997': ' Red', 'embeddings__997': '[0.021426502615213394,0.006192231550812721,-0.017156727612018585,0.02708761766552925,0.009826641529798508,0.02006719633936882,-0.037222497165203094,0 ... (15928 characters truncated) ... ,0.013982999138534069,0.007096293848007917,-0.045225173234939575,0.007863370701670647,0.04013777896761894,-0.019531605765223503,0.011150123551487923]', 'n_images__997': 5, 'price__997': 1347, 'pid__997': 10030893, 'added_timestamp__997': datetime.datetime(2023, 11, 2, 23, 23, 54, 286217), 'pname__997': 'Tulsattva Women Brown & Red Solid Kurta with Palazzos', 'gender__998': 'Women', 'description__998': 'Teal green solid crop sweatshirt, has a mandarin collar, two pockets, long sleeves, zip closure, straight hem', 'brand__998': 'HERE&NOW', 'color__998': ' Green', 'embeddings__998': '[-0.024047497659921646,0.007746653165668249,0.008778904564678669,-0.025798477232456207,0.023826831951737404,-0.009231540374457836,-0.0077135283499956 ... (15920 characters truncated) ... ,-0.001850716769695282,-0.005070758983492851,0.07009781152009964,0.007154109887778759,0.07073073089122772,-0.000816984218545258,-0.01835596188902855]', 'n_images__998': 5, 'price__998': 1299, 'pid__998': 10032495, 'added_timestamp__998': datetime.datetime(2023, 11, 2, 23, 23, 54, 286219), 'pname__998': 'HERE&NOW Women Teal Green Solid Crop Sweatshirt', 'gender__999': 'Unisex', 'description__999': 'Set content: Single Cushion CoversColour: Comes in Mustard Brown & Golden Colour.Shape: SquarePattern: GeometricFEATURES:- Ideal to be used in your l ... (408 characters truncated) ... commended.- This product has been made by hand and may have slight irregularities that are a natural outcome of the human involvement in the process.', 'brand__999': 'ExclusiveLane', 'color__999': ' Brown', 'embeddings__999': '[-0.0235105212777853,-0.038721464574337006,-0.0036462433636188507,0.03912028670310974,-0.039606157690286636,0.04108361527323723,0.05153796821832657,0 ... (15916 characters truncated) ... 017288437113165855,-0.0047885761596262455,-0.006983279250562191,-0.04521685838699341,0.03788921609520912,-0.0016984285321086645,-0.04366791248321533]', 'n_images__999': 5, 'price__999': 499, 'pid__999': 10025889, 'added_timestamp__999': datetime.datetime(2023, 11, 2, 23, 23, 54, 286220), 'pname__999': 'ExclusiveLane Brown Set of Single Geometric Square Cushion Covers'}\n"
     ]
    },
    {
     "name": "stdout",
     "output_type": "stream",
     "text": [
      "2023-11-02 23:25:02,821 INFO sqlalchemy.engine.Engine INSERT INTO products (pid, pname, brand, gender, price, n_images, description, color, embeddings, added_timestamp) VALUES (%(pid__0)s, %(pname__0)s, %(brand__0)s, %(gender__0)s, %(price__0)s, %(n_images__0)s, %(description__0)s, %(color__0)s, %(embed ... 183670 characters truncated ... _images__999)s, %(description__999)s, %(color__999)s, %(embeddings__999)s, %(added_timestamp__999)s)\n",
      "2023-11-02 23:25:02,823 INFO sqlalchemy.engine.Engine [insertmanyvalues 2/13 (unordered)] {'gender__0': 'Men', 'description__0': 'Beige self-design formal shirt, has a spread collar, long sleeves, button placket,  straight hem, one patch pocket', 'brand__0': 'Raymond', 'color__0': ' Beige', 'embeddings__0': '[-0.008026523515582085,0.030790258198976517,0.010533036664128304,0.04654913768172264,-0.0791148766875267,-0.018506985157728195,-0.012486363761126995, ... (15928 characters truncated) ... 0.02914738468825817,-0.0013721681898459792,0.025319287553429604,0.018437044695019722,0.01833774708211422,-0.029374761506915092,0.0026033588219434023]', 'n_images__0': 5, 'price__0': 1484, 'pid__0': 10018839, 'added_timestamp__0': datetime.datetime(2023, 11, 2, 23, 23, 54, 286222), 'pname__0': 'Raymond Men Beige Nancy Regular Fit Self Design Formal Shirt', 'gender__1': 'Women', 'description__1': 'Green printed woven fit and flare dress, has a tie-up neck, three-quarter sleeves, flared hem', 'brand__1': 'Tulsattva', 'color__1': ' Green', 'embeddings__1': '[-0.0357389934360981,-0.005607545841485262,-0.01315221842378378,0.008936411701142788,0.015867745503783226,0.001168269431218505,-0.08509871363639832,0 ... (15934 characters truncated) ... ,-0.003944701049476862,-0.008251771330833435,0.10186535120010376,0.010673399083316326,0.04223953187465668,-0.02158672735095024,-0.008281287737190723]', 'n_images__1': 5, 'price__1': 1077, 'pid__1': 10030891, 'added_timestamp__1': datetime.datetime(2023, 11, 2, 23, 23, 54, 286223), 'pname__1': 'Tulsattva Women Green Fit and Flare Dress', 'gender__2': 'Men', 'description__2': 'A pair of square-toe black driving shoes, has regular styling, slip-on detailLeather upperCushioned footbedTextured and patterned outsoleWarranty: 6 monthsWarranty provided by brand/manufacturer', 'brand__2': 'Geox', 'color__2': ' Black', 'embeddings__2': '[-0.019675003364682198,-0.012856130488216877,0.024507420137524605,0.03404288738965988,-0.002335953526198864,0.04199492931365967,-0.029814835637807846 ... (15905 characters truncated) ... .01549078430980444,0.034572917968034744,-0.041908904910087585,-0.0011247317306697369,-0.014781370759010315,0.020596744492650032,0.042268648743629456]', 'n_images__2': 5, 'price__2': 4799, 'pid__2': 10029299, 'added_timestamp__2': datetime.datetime(2023, 11, 2, 23, 23, 54, 286225), 'pname__2': 'Geox Men Black Solid Leather Smart Casual Driving Shoes', 'gender__3': 'Women', 'description__3': 'Shade NameScarlet Glare 307What it isLacquerInk Lip Shine\\xa0What it doesA featherweight lip shine where high-intensity pigment meets the luminosity  ... (317 characters truncated) ... se pigment with the weightless glide of a glossUltra-fine pigments offer intense, full-coverage color that lastsThis product is dermatologist-tested.', 'brand__3': 'SHISEIDO', 'color__3': nan, 'embeddings__3': '[0.045185208320617676,-0.0559660941362381,0.01201920211315155,-0.0163569338619709,-0.02966451644897461,-0.022361861541867256,0.03542144224047661,0.04 ... (15917 characters truncated) ... .0021140091121196747,-0.01125865988433361,-0.06383563578128815,-0.017641179263591766,0.015971925109624863,-0.07499381899833679,0.0026111644692718983]', 'n_images__3': 4, 'price__3': 1870, 'pid__3': 10033715, 'added_timestamp__3': datetime.datetime(2023, 11, 2, 23, 23, 54, 286227), 'pname__3': 'SHISEIDO Scarlet Glare LacquerInk Lip Shine 307', 'gender__4': 'Women', 'description__4': 'Blue, off-white and black colourblocked front-open sweatshirt, has a hood, two pockets, long sleeves, zip closure, straight hem', 'brand__4': 'DressBerry', 'color__4': 'Blue', 'embeddings__4': '[0.013408851809799671,-0.002518103225156665,0.019383374601602554,0.0004637687234207988,-0.01907215267419815,-0.016571370884776115,0.00962886773049831 ... (15981 characters truncated) ... 004582551307976246,-0.003885385813191533,0.043130166828632355,-0.0005254044663161039,0.037182699888944626,-0.03813088312745094,-0.016448648646473885]', 'n_images__4': 5, 'price__4': 539, 'pid__4': 10032095, 'added_timestamp__4': datetime.datetime(2023, 11, 2, 23, 23, 54, 286229), 'pname__4': 'DressBerry Women Blue & Off-White Colourblocked Hooded Front-Open Sweatshirt' ... 9900 parameters truncated ... 'gender__995': 'Men', 'description__995': 'Display: AnalogueMovement: QuartzPower source: BatteryDial style: Solid round stainless steel dialFeatures: Chronograph, Reset TimeStrap style: Silve ... (30 characters truncated) ... ess steel strap with a foldover closureWater resistance: 50 mWarranty: 2 yearsWarranty provided by brand/manufacturer Comes in a signature Titan case', 'brand__995': 'Titan', 'color__995': ' White', 'embeddings__995': '[-0.0003354111686348915,-0.01588834449648857,0.006068175658583641,0.04374261572957039,-0.024552885442972183,0.03417903184890747,0.02243024855852127,0 ... (15925 characters truncated) ... 29,0.019080862402915955,-0.01691560633480549,0.058268994092941284,0.010739531368017197,0.01713249273598194,-0.05649207532405853,-0.01667671464383602]', 'n_images__995': 5, 'price__995': 7996, 'pid__995': 10052443, 'added_timestamp__995': datetime.datetime(2023, 11, 2, 23, 23, 54, 288116), 'pname__995': 'Titan Men White Analogue Watch 90102BM01', 'gender__996': 'Unisex', 'description__996': 'Set content: 2 Cushion Covers Colour: Brown Shape: Square Pattern: Self Design Closure: Zip', 'brand__996': 'ROMEE', 'color__996': ' Brown', 'embeddings__996': '[-0.031347502022981644,0.0007970805745571852,-0.0013325427426025271,0.04533660411834717,-0.05217483639717102,0.019605103880167007,0.04325703531503677 ... (15911 characters truncated) ... ,0.010191698558628559,-0.02955019846558571,-0.0007920465432107449,-0.04097758233547211,0.03193965181708336,0.012941529043018818,-0.03128457069396973]', 'n_images__996': 5, 'price__996': 594, 'pid__996': 10051345, 'added_timestamp__996': datetime.datetime(2023, 11, 2, 23, 23, 54, 288118), 'pname__996': 'ROMEE Brown Set of 2 Self Design Square Cushion Covers', 'gender__997': 'Men', 'description__997': 'Yellow and Grey striped T-shirt, has a polo collar, and short sleeves', 'brand__997': 'CODE by Lifestyle', 'color__997': ' Yellow', 'embeddings__997': '[0.0255337655544281,-0.011716477572917938,-0.005127312149852514,0.019126445055007935,-0.0338364876806736,0.02128024585545063,0.00832352414727211,0.05 ... (15936 characters truncated) ... 85,0.023695193231105804,0.02664264477789402,0.06239430606365204,0.017182055860757828,0.020468950271606445,0.004729914013296366,-0.006975828669965267]', 'n_images__997': 5, 'price__997': 649, 'pid__997': 10060909, 'added_timestamp__997': datetime.datetime(2023, 11, 2, 23, 23, 54, 288132), 'pname__997': 'CODE by Lifestyle Men Yellow Striped Polo Collar T-shirt', 'gender__998': 'Men', 'description__998': 'Blue solid slim-fit joggers, has an elasticated waistband with a drawstring fastening, three pockets, cuffed hems', 'brand__998': 'Fame Forever by Lifestyle', 'color__998': 'Blue', 'embeddings__998': '[-0.02064158022403717,0.020328396931290627,-0.0019402374746277928,-0.019546829164028168,0.04375111311674118,-0.03622327744960785,-0.06043842062354088 ... (15908 characters truncated) ... ,0.008717428892850876,0.03324272856116295,-0.042080193758010864,-0.006767187733203173,0.03308628126978874,-0.035731345415115356,-0.02926177717745304]', 'n_images__998': 5, 'price__998': 999, 'pid__998': 10056103, 'added_timestamp__998': datetime.datetime(2023, 11, 2, 23, 23, 54, 288133), 'pname__998': 'Fame Forever by Lifestyle Men Blue Solid Slim-Fit Joggers', 'gender__999': 'Men', 'description__999': 'Display: AnalogueMovement: QuartzPower source: BatteryDial style: Solid round metal dialFeatures: Reset Time, Date ApertureStrap style: Gold-Toned br ... (20 characters truncated) ... ess steel strap with a foldover closureWater resistance: 30 mWarranty: 1 yearWarranty provided by brand/manufacturer Comes in a signature Sonata case', 'brand__999': 'Sonata', 'color__999': ' White', 'embeddings__999': '[0.009912221692502499,-0.03236179053783417,0.00022776276455260813,0.05240321159362793,-0.0016902383649721742,0.020844222977757454,0.02179063856601715 ... (15913 characters truncated) ... 7,0.004575042519718409,0.008937748149037361,-0.035766977816820145,0.0084945447742939,0.002555866027250886,-0.039548058062791824,-0.05480555444955826]', 'n_images__999': 5, 'price__999': 2049, 'pid__999': 10052639, 'added_timestamp__999': datetime.datetime(2023, 11, 2, 23, 23, 54, 288135), 'pname__999': 'Sonata Utsav Men White Analogue watch NL7125YM03'}\n"
     ]
    },
    {
     "name": "stdout",
     "output_type": "stream",
     "text": [
      "2023-11-02 23:25:14,845 INFO sqlalchemy.engine.Engine INSERT INTO products (pid, pname, brand, gender, price, n_images, description, color, embeddings, added_timestamp) VALUES (%(pid__0)s, %(pname__0)s, %(brand__0)s, %(gender__0)s, %(price__0)s, %(n_images__0)s, %(description__0)s, %(color__0)s, %(embed ... 183670 characters truncated ... _images__999)s, %(description__999)s, %(color__999)s, %(embeddings__999)s, %(added_timestamp__999)s)\n",
      "2023-11-02 23:25:14,846 INFO sqlalchemy.engine.Engine [insertmanyvalues 3/13 (unordered)] {'gender__0': 'Women', 'description__0': 'Display: AnalogueMovement: QuartzPower source: BatteryDial style: Solid round metal dialFeatures: Reset TimeStrap style: Black regular, leather strap with a tang closureWater resistance: 30 mWarranty: 2 yearsWarranty provided by brand/manufacturer Comes in a signature Titan case', 'brand__0': 'Titan', 'color__0': ' Black', 'embeddings__0': '[0.0008280155016109347,-0.008397857658565044,-0.004477004986256361,0.04591348022222519,-0.00046968439710326493,0.04587086662650108,-0.009280384518206 ... (15973 characters truncated) ... 0005237682489678264,-0.003960485104471445,0.03553846850991249,0.0071356529369950294,0.03226665034890175,-0.050325583666563034,-0.0006241653463803232]', 'n_images__0': 5, 'price__0': 1236, 'pid__0': 10052327, 'added_timestamp__0': datetime.datetime(2023, 11, 2, 23, 23, 54, 288137), 'pname__0': 'Titan Women Black Analogue Watch 2593SL01', 'gender__1': 'Women', 'description__1': 'Beige and mustard yellow printed straight kurta with beads detail, has a round neck, three-quarter sleeves, straight hem, and side slits, hook and eye closure, half mock button placket', 'brand__1': 'Yuris', 'color__1': ' Yellow', 'embeddings__1': '[0.03176715597510338,-0.04151371866464615,0.0005936924135312438,0.04361121729016304,0.009426231496036053,-0.0072998465038836,-0.03523997217416763,0.0 ... (15893 characters truncated) ... 0.005254099145531654,-0.0043596429750323296,0.021036500111222267,0.029592294245958328,0.023154648020863533,-0.0316275991499424,-0.004183631855994463]', 'n_images__1': 5, 'price__1': 489, 'pid__1': 10054299, 'added_timestamp__1': datetime.datetime(2023, 11, 2, 23, 23, 54, 288139), 'pname__1': 'Yuris Women Beige & Mustard Yellow Printed Straight Kurta', 'gender__2': 'Women', 'description__2': 'A pair of red pointed toe heels, has regular styling, ankle loop detailSynthetic Patent upperCushioned footbedTextured and patterned outsole, has a stiletto heel', 'brand__2': 'Sherrif Shoes', 'color__2': ' Red', 'embeddings__2': '[0.00223287520930171,0.03981602564454079,0.015390496701002121,-0.001280604861676693,-0.011030509136617184,0.03846662491559982,-0.02140333503484726,0. ... (15974 characters truncated) ... 0.0013473896542564034,0.025817446410655975,-0.05985073000192642,0.014069104567170143,0.045432452112436295,-0.021384231746196747,0.010587746277451515]', 'n_images__2': 5, 'price__2': 1377, 'pid__2': 10038835, 'added_timestamp__2': datetime.datetime(2023, 11, 2, 23, 23, 54, 288141), 'pname__2': 'Sherrif Shoes Women Red Solid Heels', 'gender__3': 'Men', 'description__3': 'Grey light wash 5-pocket mid-rise jeans, clean look, heavy fade, has a zip fly closure, and waistband with belt loops', 'brand__3': 'Levis', 'color__3': ' Grey', 'embeddings__3': '[-0.06466740369796753,0.06937252730131149,0.017811469733715057,-0.027745479717850685,0.015515546314418316,-0.038505762815475464,-0.05329718813300133, ... (15922 characters truncated) ... ,0.003928904887288809,0.017482737079262733,-0.04844516143202782,0.021547799929976463,0.024536170065402985,-0.041981060057878494,-0.01795085147023201]', 'n_images__3': 7, 'price__3': 1649, 'pid__3': 10038513, 'added_timestamp__3': datetime.datetime(2023, 11, 2, 23, 23, 54, 288142), 'pname__3': 'Levis Men Grey Slim Fit Mid-Rise Clean Look Stretchable Jeans', 'gender__4': 'Women', 'description__4': 'Display: AnalogueMovement: QuartzPower source: BatteryDial style: Embellished round stainless steel dialFeatures: Reset TimeStrap style: Black bracel ... (31 characters truncated) ...  with a butterfly closureWater resistance: Water ResistantWarranty: 1 yearWarranty provided by brand/manufacturer Comes in a signature TIMESMITH case', 'brand__4': 'TIMESMITH', 'color__4': ' Black', 'embeddings__4': '[-0.024467624723911285,-0.07066651433706284,-0.005574919283390045,0.06764037162065506,-0.038010697811841965,0.04483535513281822,-0.0143126817420125,0 ... (15929 characters truncated) ... .013419019058346748,0.04278997331857681,0.034737709909677505,-0.009146442636847496,0.006681201979517937,-0.060778580605983734,-0.0005748399998992682]', 'n_images__4': 4, 'price__4': 499, 'pid__4': 10044461, 'added_timestamp__4': datetime.datetime(2023, 11, 2, 23, 23, 54, 288144), 'pname__4': 'TIMESMITH Women Black Analogue Watch TSC-049' ... 9900 parameters truncated ... 'gender__995': 'Women', 'description__995': 'Blue medium wash 5-pocket mid-rise jeans, clean look, light fade, has a button and zip closure, and waistband with belt loops', 'brand__995': 'DressBerry', 'color__995': 'Blue', 'embeddings__995': '[-0.050213877111673355,0.07204810529947281,0.015038471668958664,-0.0048693157732486725,-0.008720315992832184,-0.021589886397123337,-0.067951239645481 ... (15966 characters truncated) ... 005623915698379278,-0.0015123788034543395,-0.010512440465390682,-0.009250236675143242,0.07537630200386047,-0.07164541631937027,-0.015121604315936565]', 'n_images__995': 7, 'price__995': 594, 'pid__995': 10098527, 'added_timestamp__995': datetime.datetime(2023, 11, 2, 23, 23, 54, 289884), 'pname__995': 'DressBerry Women Blue Skinny Fit Mid-Rise Clean Look Stretchable Ankle Length Jeans', 'gender__996': 'Men', 'description__996': 'Navy dark wash 5-pocket mid-rise jeans, clean look, light fade, has a button and zip closure, and waistband with belt loops', 'brand__996': 'Roadster', 'color__996': 'Blue', 'embeddings__996': '[-0.0630994439125061,0.0931590273976326,0.02664981037378311,-0.015016072429716587,-0.006732477340847254,-0.0350118950009346,-0.09642120450735092,0.07 ... (15945 characters truncated) ... 3,0.002733946079388261,0.04642035812139511,-0.053182728588581085,-0.003949225414544344,0.03467954695224762,-0.06946774572134018,0.003751118667423725]', 'n_images__996': 7, 'price__996': 1299, 'pid__996': 10064507, 'added_timestamp__996': datetime.datetime(2023, 11, 2, 23, 23, 54, 289887), 'pname__996': 'Roadster Men Navy Blue Slim Fit Mid-Rise Clean Look Stretchable Jeans', 'gender__997': 'Men', 'description__997': 'Blue and White checked casual shirt, has a spread collar, long sleeves, button placket, curved hem, and 1 patch pocket', 'brand__997': 'UCLA', 'color__997': 'Blue', 'embeddings__997': '[-0.042306747287511826,-0.009274294599890709,0.01367063820362091,-0.001978185260668397,-0.008044236339628696,-0.0500570684671402,-0.02679314091801643 ... (15935 characters truncated) ... 8092,0.011215911246836185,0.01584191620349884,-0.016632353886961937,0.06450922787189484,0.019313156604766846,0.01752728596329689,0.00957468431442976]', 'n_images__997': 4, 'price__997': 849, 'pid__997': 10073181, 'added_timestamp__997': datetime.datetime(2023, 11, 2, 23, 23, 54, 289889), 'pname__997': 'UCLA Men Blue & White Slim Fit Checked Casual Shirt', 'gender__998': 'Unisex', 'description__998': 'A pair of grey solid flip flopsSoft, flexible Matlite uppers feel broken-in from day one Croslite foam outsoles provide durable, all-day support and  ... (117 characters truncated) ... super-soft, incredibly lightweight, and extraordinarily resilientPatterned synthetic outsoleWarranty: 3 monthsWarranty provided by brand/manufacturer', 'brand__998': 'Crocs', 'color__998': ' Grey', 'embeddings__998': '[0.01130959577858448,-0.015951011329889297,0.013987385667860508,-0.007106876000761986,0.00038517365464940667,0.011562349274754524,0.02828354947268963 ... (15955 characters truncated) ... 15,0.03976945951581001,-0.02534022368490696,-0.03810572624206543,0.033594101667404175,-0.016083085909485817,-0.0412931889295578,0.029971763491630554]', 'n_images__998': 5, 'price__998': 4495, 'pid__998': 10089285, 'added_timestamp__998': datetime.datetime(2023, 11, 2, 23, 23, 54, 289891), 'pname__998': 'Crocs Unisex Grey Solid LiteRide Clogs', 'gender__999': 'Unisex', 'description__999': 'Black textured sling bag, has a zip closure3 main compartments, 3 inner pocketsTablet sleeve: NoWarranty: 1 yearWarranty provided by brand owner/manufacturer', 'brand__999': 'MBOSS', 'color__999': ' Red', 'embeddings__999': '[0.012301774695515633,-0.04392823576927185,-0.003924885299056768,0.02789316698908806,0.0037435367703437805,-0.006756243761628866,-0.00133610842749476 ... (15938 characters truncated) ... .018356386572122574,0.012932688929140568,-0.004885165486484766,-0.0061400774866342545,-0.01295365672558546,0.01434487197548151,-0.026187168434262276]', 'n_images__999': 6, 'price__999': 840, 'pid__999': 10082677, 'added_timestamp__999': datetime.datetime(2023, 11, 2, 23, 23, 54, 289893), 'pname__999': 'MBOSS Black Textured Sling Bag'}\n"
     ]
    },
    {
     "name": "stdout",
     "output_type": "stream",
     "text": [
      "2023-11-02 23:25:28,452 INFO sqlalchemy.engine.Engine INSERT INTO products (pid, pname, brand, gender, price, n_images, description, color, embeddings, added_timestamp) VALUES (%(pid__0)s, %(pname__0)s, %(brand__0)s, %(gender__0)s, %(price__0)s, %(n_images__0)s, %(description__0)s, %(color__0)s, %(embed ... 183670 characters truncated ... _images__999)s, %(description__999)s, %(color__999)s, %(embeddings__999)s, %(added_timestamp__999)s)\n",
      "2023-11-02 23:25:28,454 INFO sqlalchemy.engine.Engine [insertmanyvalues 4/13 (unordered)] {'gender__0': 'Unisex', 'description__0': 'Set content: Single Door curtainColour: BeigePattern: Floral DoorLight blocking: RegularFitting: Eyelet', 'brand__0': 'VRINDA', 'color__0': ' Beige', 'embeddings__0': '[0.007669719401746988,-0.020761268213391304,-0.0012162966886535287,-0.013211172074079514,-0.0664496198296547,-0.06213679909706116,-0.0449892207980155 ... (15898 characters truncated) ... 0.0018716444028541446,-0.047862667590379715,0.05416778847575188,-0.03018007054924965,0.006731688044965267,-0.012159176170825958,-0.00547637976706028]', 'n_images__0': 4, 'price__0': 1499, 'pid__0': 10096767, 'added_timestamp__0': datetime.datetime(2023, 11, 2, 23, 23, 54, 289894), 'pname__0': 'VRINDA Beige Single Door Curtains', 'gender__1': 'Women', 'description__1': 'Pack of 3 solid half-coverage assorted T-shirt brasLightly padded and non-wired seamless cupsRegular straps and back closureBack style: RegularFeature: All day comfortDisclaimer: The final product delivered might vary in colour and prints from the display here', 'brand__1': 'Bodycare', 'color__1': nan, 'embeddings__1': '[0.03797553479671478,-0.046988748013973236,-0.02426239848136902,0.03660677373409271,0.006734004244208336,0.05420443415641785,0.08148117363452911,0.06 ... (15901 characters truncated) ... 014716638252139091,0.0011131075443699956,0.0027462176512926817,0.010449150577187538,0.016380339860916138,-0.011504847556352615,-0.015647416934370995]', 'n_images__1': 4, 'price__1': 1230, 'pid__1': 10089413, 'added_timestamp__1': datetime.datetime(2023, 11, 2, 23, 23, 54, 289895), 'pname__1': 'Bodycare Women Pack of 3 Assorted Lightly Padded T-shirt Bras E6552BCODPU', 'gender__2': 'Women', 'description__2': 'A pair of tan brown open-toed flats, has regular styling, no back strap detailSynthetic upperCushioned footbedTextured and patterned outsole', 'brand__2': 'Mochi', 'color__2': ' Brown', 'embeddings__2': '[-0.05067324638366699,-0.03437284380197525,-0.00863910187035799,-0.0036121741868555546,0.01588527299463749,0.009043276309967041,-0.040900323539972305 ... (15932 characters truncated) ... -0.01439350564032793,-0.01814708486199379,-0.06476721167564392,-0.004882866516709328,0.05276899039745331,-0.036317817866802216,0.0027773871552199125]', 'n_images__2': 5, 'price__2': 1014, 'pid__2': 10080317, 'added_timestamp__2': datetime.datetime(2023, 11, 2, 23, 23, 54, 289897), 'pname__2': 'Mochi Women Tan Brown Woven Design Open Toe Flats', 'gender__3': 'Men', 'description__3': 'Display: DigitalMovement: QuartzPower source: BatteryDial style: Solid round polycarbonate dialFeatures: Multi Function, Stopwatch, LED BacklightStrap style: Black regular, rubber strap with a tang closureWater resistance: 200 mWarranty: 2 yearsWarranty provided by brand/manufacturer', 'brand__3': 'CASIO', 'color__3': ' Black', 'embeddings__3': '[-0.012952601537108421,-0.06282009929418564,-0.01300750020891428,0.05266702547669411,-0.06173132359981537,0.07085631787776947,0.003185354173183441,0. ... (15970 characters truncated) ... 2.858516927517485e-05,0.013040116988122463,-0.016829779371619225,0.01883770152926445,0.004877907689660788,-0.025611726567149162,0.013464135117828846]', 'n_images__3': 4, 'price__3': 5395, 'pid__3': 10069707, 'added_timestamp__3': datetime.datetime(2023, 11, 2, 23, 23, 54, 289898), 'pname__3': 'CASIO G-Shock Men Black Dial Basic Watch DW-5900-1DR - G909', 'gender__4': 'Women', 'description__4': 'Gold-Toned Contemporary Earrings and brass-plated Secured with a post and back', 'brand__4': 'Voylla', 'color__4': ' Gold', 'embeddings__4': '[0.06970708072185516,-0.0270562544465065,-0.004712557420134544,0.018920864909887314,-0.02582934871315956,-0.013467293232679367,-0.0189581997692585,0. ... (15952 characters truncated) ... .030020413920283318,-0.0029542746488004923,-0.03671552985906601,0.025413930416107178,0.07998597621917725,-0.007250990718603134,-0.011537511833012104]', 'n_images__4': 4, 'price__4': 524, 'pid__4': 10098487, 'added_timestamp__4': datetime.datetime(2023, 11, 2, 23, 23, 54, 289900), 'pname__4': 'Voylla Gold-Toned Contemporary Jhumkas' ... 9900 parameters truncated ... 'gender__995': 'Unisex', 'description__995': 'Set content: 2 Cushion Covers Colour: Navy Blue Shape: Square Pattern: Abstract Closure: Zip', 'brand__995': 'Deco Window', 'color__995': 'Blue', 'embeddings__995': '[0.002912594936788082,0.0005780494539067149,-0.006447665859013796,0.016806090250611305,-0.08078133314847946,0.012409946881234646,0.03853614255785942, ... (15951 characters truncated) ... 0063631474040448666,-0.016038160771131516,-0.00957547314465046,-0.030499370768666267,0.04673407971858978,0.0018436771351844072,-0.027801772579550743]', 'n_images__995': 5, 'price__995': 798, 'pid__995': 10111403, 'added_timestamp__995': datetime.datetime(2023, 11, 2, 23, 23, 54, 291681), 'pname__995': 'Deco Window Navy Blue Set of 2 Abstract Square Cushion Covers', 'gender__996': 'Women', 'description__996': 'Pack of three assorted calf-length socks, each with a ribbed mouth and a flat-toed seamDisclaimer: The final product delivered might vary in colour and prints from the display here', 'brand__996': 'Bonjour', 'color__996': nan, 'embeddings__996': '[0.023316001519560814,-0.016636233776807785,0.006840440910309553,0.027791419997811317,0.0031520274933427572,0.01996159739792347,0.04076453298330307,0 ... (15908 characters truncated) ... 0.013577500358223915,-0.01817137561738491,-0.06455718725919724,0.013532877899706364,0.052070070058107376,-0.014010807499289513,-0.021178536117076874]', 'n_images__996': 3, 'price__996': 550, 'pid__996': 10117279, 'added_timestamp__996': datetime.datetime(2023, 11, 2, 23, 23, 54, 291682), 'pname__996': 'Bonjour Women Pack of 3 Assorted Calf-Length Socks', 'gender__997': 'Women', 'description__997': 'Blue and White checked straight kurta, has a mandarin collar, three-quarter sleeves, straight hem, and side slits', 'brand__997': 'Kvsfab', 'color__997': 'Blue', 'embeddings__997': '[0.01799536496400833,-0.08530253916978836,-1.676309148024302e-05,0.00132247235160321,-0.012963452376425266,-0.0001497550547355786,-0.0286750923842191 ... (15950 characters truncated) ... 0.012633697129786015,0.027527906000614166,-0.06263481825590134,-0.002709020860493183,0.023444026708602905,-0.023598849773406982,0.002127910265699029]', 'n_images__997': 5, 'price__997': 907, 'pid__997': 10109023, 'added_timestamp__997': datetime.datetime(2023, 11, 2, 23, 23, 54, 291685), 'pname__997': 'Kvsfab Women Blue & White Checked Straight Kurta', 'gender__998': 'Women', 'description__998': 'A pair of off-white open toe wedges with metallic studs detailing, has regular styling, open back detailSynthetic upperCushioned footbedTextured and patterned outsole, has a wedge heelWarranty: 1 monthWarranty provided by brand/manufacturer', 'brand__998': 'Lavie', 'color__998': ' White', 'embeddings__998': '[0.0036491320934146643,-0.05267324298620224,0.009800601750612259,0.05258997157216072,-0.024349231272935867,0.013570940122008324,0.03207799047231674,0 ... (15922 characters truncated) ... 09,-0.032807525247335434,0.021150387823581696,-0.09992136806249619,0.00729634752497077,0.04638815298676491,-0.02300729975104332,0.017793234437704086]', 'n_images__998': 7, 'price__998': 1319, 'pid__998': 10131613, 'added_timestamp__998': datetime.datetime(2023, 11, 2, 23, 23, 54, 291686), 'pname__998': 'Lavie Women Off-White Solid Wedges with Metallic Studs Detail', 'gender__999': 'Women', 'description__999': 'Coral pink solid woven regular top with lace detail, has a boat neck, and short sleeves', 'brand__999': 'Karmic Vision', 'color__999': ' Pink', 'embeddings__999': '[0.026473570615053177,0.024494068697094917,0.0005187313072383404,0.010616950690746307,-0.0008925775182433426,0.027530981227755547,-0.0369321443140506 ... (15921 characters truncated) ... .0036889552138745785,0.01326384861022234,0.0034241434186697006,-0.0013670121552422643,0.006517595611512661,0.014757285825908184,0.008455838076770306]', 'n_images__999': 5, 'price__999': 539, 'pid__999': 10132369, 'added_timestamp__999': datetime.datetime(2023, 11, 2, 23, 23, 54, 291688), 'pname__999': 'Karmic Vision Women Coral Pink Solid Lace Detail Top'}\n"
     ]
    },
    {
     "name": "stdout",
     "output_type": "stream",
     "text": [
      "2023-11-02 23:25:42,345 INFO sqlalchemy.engine.Engine INSERT INTO products (pid, pname, brand, gender, price, n_images, description, color, embeddings, added_timestamp) VALUES (%(pid__0)s, %(pname__0)s, %(brand__0)s, %(gender__0)s, %(price__0)s, %(n_images__0)s, %(description__0)s, %(color__0)s, %(embed ... 183670 characters truncated ... _images__999)s, %(description__999)s, %(color__999)s, %(embeddings__999)s, %(added_timestamp__999)s)\n",
      "2023-11-02 23:25:42,346 INFO sqlalchemy.engine.Engine [insertmanyvalues 5/13 (unordered)] {'gender__0': 'Women', 'description__0': 'A pair of round-toe red solid slip-on sneakers, has regular styling, slip-on detailSynthetic Leather upperCushioned footbedTextured and patterned outsole', 'brand__0': 'FAUSTO', 'color__0': ' Red', 'embeddings__0': '[0.008745112456381321,-0.02371208742260933,0.0013677276438102126,0.02258233353495598,0.061441946774721146,0.024396570399403572,-0.006567405536770821, ... (15929 characters truncated) ... 89,-0.045751120895147324,0.0034511019475758076,-0.08293712139129639,0.02991575002670288,0.04624922201037407,0.00391147006303072,0.019446147605776787]', 'n_images__0': 6, 'price__0': 629, 'pid__0': 10119565, 'added_timestamp__0': datetime.datetime(2023, 11, 2, 23, 23, 54, 291689), 'pname__0': 'FAUSTO Women Red Solid Slip-On Sneakers', 'gender__1': 'Boys', 'description__1': 'Green and Navy Blue striped T-shirt, has a polo collar, and long sleeves', 'brand__1': 'Indian Terrain', 'color__1': 'Blue', 'embeddings__1': '[-0.005073868669569492,0.0008420452941209078,0.0045021227560937405,0.013960867188870907,-0.01814790442585945,-0.0007525333785451949,-0.02279355004429 ... (15920 characters truncated) ... 584,0.04554328694939613,0.020686252042651176,0.06161019578576088,0.01453794538974762,0.05494296923279762,0.0037991933058947325,0.0042865523137152195]', 'n_images__1': 5, 'price__1': 629, 'pid__1': 10135051, 'added_timestamp__1': datetime.datetime(2023, 11, 2, 23, 23, 54, 291692), 'pname__1': 'Indian Terrain Boys Green & Navy Blue Striped Polo Collar T-shirt', 'gender__2': 'Women', 'description__2': 'Pack of four solid ankle-length socks in nude colour, each has an elasticated mouth and a flat-toe seam.', 'brand__2': 'Bonjour', 'color__2': nan, 'embeddings__2': '[-0.016868887469172478,-0.0373259112238884,-0.00030017655808478594,0.04933879151940346,0.011610254645347595,0.016185283660888672,0.03791121020913124, ... (15930 characters truncated) ... 58,-0.01261168997734785,-0.017234377562999725,-0.08122235536575317,0.04057461768388748,0.0616186261177063,-0.02672606334090233,-0.033769816160202026]', 'n_images__2': 3, 'price__2': 352, 'pid__2': 10117245, 'added_timestamp__2': datetime.datetime(2023, 11, 2, 23, 23, 54, 291694), 'pname__2': 'Bonjour Women Pack of 4 Ankle-Length Socks', 'gender__3': 'Women', 'description__3': 'Black and Navy Blue solid jacket, has a mandarin collar, 2 pockets, zip closure, long sleeves, straight hem, and polyester', 'brand__3': 'Mast & Harbour', 'color__3': ' Black', 'embeddings__3': '[-0.008254560641944408,-0.04151047766208649,-0.003318514209240675,-0.008927117101848125,0.03134247660636902,0.006416886579245329,0.005434880498796701 ... (15913 characters truncated) ... .004423025995492935,0.012210972607135773,0.003655669279396534,0.007935664616525173,-0.0021988125517964363,-0.0076292441226542,-0.0005644694319926202]', 'n_images__3': 7, 'price__3': 1399, 'pid__3': 10115433, 'added_timestamp__3': datetime.datetime(2023, 11, 2, 23, 23, 54, 291695), 'pname__3': 'Mast & Harbour Women Black Solid Jacket', 'gender__4': 'Women', 'description__4': 'Black printed straight kurta, has a mandarin collar, three-quarter sleeves, straight hem, and side slits', 'brand__4': 'Alena', 'color__4': ' Black', 'embeddings__4': '[-0.022888420149683952,-0.0492246076464653,-0.015119669958949089,0.039044443517923355,-0.006645143963396549,-0.005292846355587244,0.00364794768393039 ... (15893 characters truncated) ... 0.020923275500535965,0.013897506520152092,-0.009633003734052181,0.028063537552952766,0.009353180415928364,-0.040232788771390915,0.028108444064855576]', 'n_images__4': 4, 'price__4': 719, 'pid__4': 10124883, 'added_timestamp__4': datetime.datetime(2023, 11, 2, 23, 23, 54, 291696), 'pname__4': 'Alena Women Black Printed Straight Kurta' ... 9900 parameters truncated ... 'gender__995': 'Men', 'description__995': 'Grey Melange printed T-shirt, has a round neck, and short sleeves', 'brand__995': 'Indian Terrain', 'color__995': ' Grey', 'embeddings__995': '[0.04498286545276642,-0.033000774681568146,-0.01124524511396885,0.029581990092992783,-0.046654149889945984,0.0022906025405973196,0.016615483909845352 ... (15936 characters truncated) ... 7852,0.04246492683887482,0.009425757452845573,0.0666532963514328,0.008077837526798248,0.0397782102227211,-0.010558508336544037,-0.004429776221513748]', 'n_images__995': 5, 'price__995': 449, 'pid__995': 10146983, 'added_timestamp__995': datetime.datetime(2023, 11, 2, 23, 23, 54, 294047), 'pname__995': 'Indian Terrain Men Grey Melange Printed Round Neck T-shirt', 'gender__996': 'Men', 'description__996': 'Blue dark wash 5-pocket low-rise jeans, clean look, light fade, has a button and zip closure, and waistband with belt loops', 'brand__996': 'Indian Terrain', 'color__996': 'Blue', 'embeddings__996': '[-0.07331845909357071,0.08661157637834549,0.027064602822065353,-0.052628640085458755,0.0034333504736423492,-0.023814518004655838,-0.03773137181997299 ... (15908 characters truncated) ... 35,0.030055316165089607,0.03560991585254669,-0.0691373273730278,0.01619955338537693,0.035973530262708664,-0.043525028973817825,-0.006373647600412369]', 'n_images__996': 5, 'price__996': 1124, 'pid__996': 10146821, 'added_timestamp__996': datetime.datetime(2023, 11, 2, 23, 23, 54, 294049), 'pname__996': 'Indian Terrain Men Blue Brooklyn Slim Fit Low-Rise Clean Look Stretchable Jeans', 'gender__997': 'Men', 'description__997': 'Red solid T-shirt, has a Henley neck, and long sleeves', 'brand__997': 'Indian Terrain', 'color__997': ' Red', 'embeddings__997': '[0.013618678785860538,-0.005599798634648323,0.011430970393121243,0.0020538228563964367,-0.04297269880771637,-0.02994002401828766,-0.01285758800804615 ... (15937 characters truncated) ... 85769,0.04533956199884415,0.029503794386982918,0.035610176622867584,0.045837949961423874,0.0225030779838562,-0.0078878877684474,0.021383721381425858]', 'n_images__997': 5, 'price__997': 719, 'pid__997': 10147717, 'added_timestamp__997': datetime.datetime(2023, 11, 2, 23, 23, 54, 294051), 'pname__997': 'Indian Terrain Men Red Solid Henley Neck T-shirt', 'gender__998': 'Men', 'description__998': 'Navy Blue solid mid-rise trousers, button closure, and 4 pockets', 'brand__998': 'Indian Terrain', 'color__998': 'Blue', 'embeddings__998': '[-0.051118846982717514,0.026161763817071915,0.031749263405799866,-0.05540280044078827,-0.017522431910037994,-0.039193227887153625,-0.0393512137234211 ... (15913 characters truncated) ... 7,0.04040592908859253,0.023196151480078697,-0.020653121173381805,0.022285545244812965,0.027300512418150902,-0.03972356393933296,0.003570548025891185]', 'n_images__998': 6, 'price__998': 1839, 'pid__998': 10148849, 'added_timestamp__998': datetime.datetime(2023, 11, 2, 23, 23, 54, 294055), 'pname__998': 'Indian Terrain Men Navy Blue Brooklyn Slim Fit Solid Regular Trousers', 'gender__999': 'Men', 'description__999': 'Navy blue solid low-rise trousers, button closure, and 4 pockets', 'brand__999': 'Indian Terrain', 'color__999': 'Blue', 'embeddings__999': '[-0.043378084897994995,0.009078794158995152,0.009526785463094711,-0.032916128635406494,0.005680800415575504,-0.008662234991788864,-0.0257639586925506 ... (15920 characters truncated) ... 6245,0.01835143379867077,0.028155285865068436,-0.0456061027944088,0.03482059761881828,0.01256182137876749,-0.015033245086669922,0.021524621173739433]', 'n_images__999': 5, 'price__999': 1919, 'pid__999': 10148929, 'added_timestamp__999': datetime.datetime(2023, 11, 2, 23, 23, 54, 294057), 'pname__999': 'Indian Terrain Men Navy Blue Brooklyn Slim Fit Solid Chinos'}\n",
      "2023-11-02 23:25:53,759 INFO sqlalchemy.engine.Engine INSERT INTO products (pid, pname, brand, gender, price, n_images, description, color, embeddings, added_timestamp) VALUES (%(pid__0)s, %(pname__0)s, %(brand__0)s, %(gender__0)s, %(price__0)s, %(n_images__0)s, %(description__0)s, %(color__0)s, %(embed ... 183670 characters truncated ... _images__999)s, %(description__999)s, %(color__999)s, %(embeddings__999)s, %(added_timestamp__999)s)\n"
     ]
    },
    {
     "name": "stdout",
     "output_type": "stream",
     "text": [
      "2023-11-02 23:25:53,759 INFO sqlalchemy.engine.Engine [insertmanyvalues 6/13 (unordered)] {'gender__0': 'Women', 'description__0': 'Coral pink solid woven top, has a round neck, short sleeves, and button closures', 'brand__0': 'DOROTHY PERKINS', 'color__0': ' Pink', 'embeddings__0': '[-0.0017163163283839822,0.06625061482191086,-0.022879360243678093,0.010084879584610462,-0.005941526498645544,0.012220743112266064,-0.0520354919135570 ... (15937 characters truncated) ... ,-0.0056372396647930145,0.017295023426413536,0.022377636283636093,-0.005797091871500015,0.01856093481183052,-0.005570142529904842,-0.015654306858778]', 'n_images__0': 5, 'price__0': 871, 'pid__0': 10142295, 'added_timestamp__0': datetime.datetime(2023, 11, 2, 23, 23, 54, 294059), 'pname__0': 'DOROTHY PERKINS Women Coral Pink Solid Top', 'gender__1': 'Women', 'description__1': 'Mustard yellow solid sling bag, has a button closure3 main compartments, 3 inner pocketsNon Detachable sling strapWarranty: 3 monthsWarranty provided by brand/manufacturer', 'brand__1': 'KLEIO', 'color__1': ' Yellow', 'embeddings__1': '[0.03655407205224037,-0.055117107927799225,0.0164951179176569,0.001423065783455968,-0.018811911344528198,-0.0037730401381850243,-0.009013207629323006 ... (15939 characters truncated) ... 0.012857075780630112,0.007772884797304869,0.008808236569166183,-0.013913638889789581,0.011527596041560173,-0.019175274297595024,-0.01734055019915104]', 'n_images__1': 5, 'price__1': 1147, 'pid__1': 10146525, 'added_timestamp__1': datetime.datetime(2023, 11, 2, 23, 23, 54, 294061), 'pname__1': 'KLEIO Mustard Yellow Solid Sling Bag', 'gender__2': 'Women', 'description__2': 'What it isApple cider vinegar hair masque\\xa0What it doesDeep conditioningPromotes healthy hairRepairs damaged hair cuticlesRestores moisture and ren ... (37 characters truncated) ... sHelps gain enviable, healthy hairCleans hair build-up due to dirt and\\xa0pollutionIngredientsApple cider vinegarAlmond oilVitamin EAqua\\xa0Glycerine', 'brand__2': 'The Beauty Co.', 'color__2': nan, 'embeddings__2': '[0.03291191905736923,0.014152430929243565,0.011756228283047676,-0.04820118471980095,-0.015992363914847374,-0.030304398387670517,-0.006343971937894821 ... (15929 characters truncated) ... 0.0033860336989164352,0.01887013576924801,-0.02580517902970314,-0.011409781873226166,-0.015382564626634121,-0.11008183658123016,-0.04155106842517853]', 'n_images__2': 6, 'price__2': 419, 'pid__2': 10143393, 'added_timestamp__2': datetime.datetime(2023, 11, 2, 23, 23, 54, 294062), 'pname__2': 'The Beauty Co. Apple Cider Vinegar Hair Masque 200 g', 'gender__3': 'Men', 'description__3': 'Blue printed mid-rise trousers, button closure, and 4 pockets', 'brand__3': 'Moda Rapido', 'color__3': 'Blue', 'embeddings__3': '[-0.0009539024904370308,-0.05246303230524063,-0.005307247396558523,-0.01285591907799244,0.0234865453094244,-0.003431780496612191,-0.00160006154328584 ... (15932 characters truncated) ... 4,0.024786831811070442,0.010264509357511997,-0.07214989513158798,0.03061741031706333,0.052601784467697144,-0.009661877527832985,0.030632197856903076]', 'n_images__3': 7, 'price__3': 1299, 'pid__3': 10149795, 'added_timestamp__3': datetime.datetime(2023, 11, 2, 23, 23, 54, 294064), 'pname__3': 'Moda Rapido Men Blue Slim Fit Printed Chinos', 'gender__4': 'Men', 'description__4': 'Beige and Brown checked cotton T-shirt, has a polo collar, and short sleeves', 'brand__4': 'Indian Terrain', 'color__4': ' Brown', 'embeddings__4': '[-0.012984223663806915,-0.011709689162671566,0.01344471238553524,0.0033290113788098097,-0.012965709902346134,-0.015370090492069721,-0.011351775377988 ... (15940 characters truncated) ... 39,0.052286114543676376,0.007596977520734072,0.013756467029452324,0.02496947906911373,0.053533151745796204,-0.01633625663816929,0.025501595810055733]', 'n_images__4': 5, 'price__4': 599, 'pid__4': 10146991, 'added_timestamp__4': datetime.datetime(2023, 11, 2, 23, 23, 54, 294066), 'pname__4': 'Indian Terrain Men Beige & Brown Checked Polo Collar Cotton T-shirt' ... 9900 parameters truncated ... 'gender__995': 'Women', 'description__995': 'Grey embroidered saree and has an embroidered borderComes with a blouse pieceThe\\xa0model\\xa0is\\xa0wearing\\xa0a\\xa0stitched\\xa0version\\xa0of the blouse. The saree comes with an unstitched blouse piece.', 'brand__995': 'Kvsfab', 'color__995': ' Red', 'embeddings__995': '[0.029838673770427704,-0.02367432415485382,0.00017918716184794903,0.02532564103603363,-0.013283303007483482,-0.006172165274620056,-0.0221391245722770 ... (15937 characters truncated) ... .023129289969801903,0.006071784067898989,0.004187246318906546,-0.010542578063905239,0.022884177044034004,-0.014789133332669735,-0.017276760190725327]', 'n_images__995': 6, 'price__995': 1248, 'pid__995': 10173109, 'added_timestamp__995': datetime.datetime(2023, 11, 2, 23, 23, 54, 296169), 'pname__995': 'Kvsfab Women Grey Embroidered Poly Georgette Saree', 'gender__996': 'Women', 'description__996': 'White solid high-rise treggings, has an elasticated waistband, slip-on with zip detail', 'brand__996': 'Ginger by Lifestyle', 'color__996': ' White', 'embeddings__996': '[0.0031184435356408358,-0.01578662358224392,0.002568942727521062,0.013639919459819794,0.028123529627919197,0.01025912445038557,-0.05147825926542282,0 ... (15922 characters truncated) ... ,-0.017351891845464706,0.01537867821753025,0.017563549801707268,-0.016902202740311623,0.05646060034632683,-0.060903940349817276,-0.01677582785487175]', 'n_images__996': 5, 'price__996': 1299, 'pid__996': 10170489, 'added_timestamp__996': datetime.datetime(2023, 11, 2, 23, 23, 54, 296170), 'pname__996': 'Ginger by Lifestyle Women White Solid Skinny Fit Treggings', 'gender__997': 'Men', 'description__997': 'Grey melange solid trunk, has an elasticated waistband, a double-layered contoured front pouch', 'brand__997': 'Tommy Hilfiger', 'color__997': ' Grey', 'embeddings__997': '[0.009954115375876427,0.021434824913740158,0.016922255977988243,0.06215331703424454,-0.04807702451944351,-0.012986313551664352,0.011426766403019428,0 ... (15929 characters truncated) ... 0834,0.030982324853539467,0.03485583886504173,0.08357137441635132,-0.010136538185179234,-0.02371985651552677,-0.0263062734156847,-0.0190571341663599]', 'n_images__997': 4, 'price__997': 839, 'pid__997': 10176755, 'added_timestamp__997': datetime.datetime(2023, 11, 2, 23, 23, 54, 296172), 'pname__997': 'Tommy Hilfiger Men Grey Melange Solid Trunk A9AB4127', 'gender__998': 'Men', 'description__998': 'Navy blue and black checked smart casual shirt, has a spread collar, short sleeves, button placket, curved hem, and 1 patch pocket', 'brand__998': 'Indian Terrain', 'color__998': 'Blue', 'embeddings__998': '[-0.02520504593849182,-0.016545157879590988,0.009052998386323452,-0.009481117129325867,-0.04429571330547333,-0.017313729971647263,-0.0349199399352073 ... (15947 characters truncated) ... ,0.044784240424633026,0.020071009173989296,-0.016333214938640594,0.011918476782739162,0.06323612481355667,-0.021632464602589607,0.029648467898368835]', 'n_images__998': 5, 'price__998': 919, 'pid__998': 10152475, 'added_timestamp__998': datetime.datetime(2023, 11, 2, 23, 23, 54, 296174), 'pname__998': 'Indian Terrain Men Navy Blue & Black Chiseled Slim Fit Checked Casual Shirt', 'gender__999': 'Men', 'description__999': 'Violet and White striped casual shirt, has a spread collar, long sleeves, snap button placket, curved hem, and 1 patch pocket', 'brand__999': 'Indian Terrain', 'color__999': ' White', 'embeddings__999': '[-0.02100450173020363,0.004975995980203152,0.009353152476251125,-0.013150119222700596,-0.011923500336706638,-0.02728542499244213,-0.0381045937538147, ... (15936 characters truncated) ... 9,0.0348629429936409,-0.0015151804545894265,0.0032312863040715456,0.01973170042037964,0.057297561317682266,0.005134595092386007,0.025720737874507904]', 'n_images__999': 5, 'price__999': 989, 'pid__999': 10154251, 'added_timestamp__999': datetime.datetime(2023, 11, 2, 23, 23, 54, 296177), 'pname__999': 'Indian Terrain Men Violet & White Slim Fit Striped Smart Casual Shirt'}\n",
      "2023-11-02 23:26:03,342 INFO sqlalchemy.engine.Engine INSERT INTO products (pid, pname, brand, gender, price, n_images, description, color, embeddings, added_timestamp) VALUES (%(pid__0)s, %(pname__0)s, %(brand__0)s, %(gender__0)s, %(price__0)s, %(n_images__0)s, %(description__0)s, %(color__0)s, %(embed ... 183670 characters truncated ... _images__999)s, %(description__999)s, %(color__999)s, %(embeddings__999)s, %(added_timestamp__999)s)\n"
     ]
    },
    {
     "name": "stdout",
     "output_type": "stream",
     "text": [
      "2023-11-02 23:26:03,342 INFO sqlalchemy.engine.Engine [insertmanyvalues 7/13 (unordered)] {'gender__0': 'Boys', 'description__0': 'A pair of square toe brown loafers, has regular styling, slip-on detailSynthetic upperCushioned footbedTextured and patterned outsoleWarranty: 1 monthWarranty provided by brand/manufacturer', 'brand__0': 'Mochi', 'color__0': ' Brown', 'embeddings__0': '[-0.031156247481703758,0.0025735613889992237,0.020300433039665222,-0.0048003485426306725,0.027500346302986145,0.012060479260981083,-0.031331300735473 ... (15950 characters truncated) ... 556999581633136e-05,-0.0031767715699970722,-0.05103627219796181,-0.02432679943740368,0.03348080441355705,-0.021029014140367508,-0.023269779980182648]', 'n_images__0': 5, 'price__0': 1490, 'pid__0': 10168239, 'added_timestamp__0': datetime.datetime(2023, 11, 2, 23, 23, 54, 296178), 'pname__0': 'Mochi Boys Brown Loafers', 'gender__1': 'Women', 'description__1': 'Brown embroidered woven sheath dress, has a V-neck, three-quarter puff sleeves, an attached lining, and straight hem', 'brand__1': 'Iti', 'color__1': ' Red', 'embeddings__1': '[0.01714131236076355,-0.04025077447295189,0.005346755031496286,0.03953065723180771,-0.05027263984084129,-0.017686575651168823,-0.01707320287823677,0. ... (15938 characters truncated) ... 3,0.05623391643166542,-0.02188703790307045,0.028717685490846634,-0.03841175138950348,0.008093373849987984,0.004024877212941647,-0.007044882047921419]', 'n_images__1': 5, 'price__1': 1999, 'pid__1': 10174751, 'added_timestamp__1': datetime.datetime(2023, 11, 2, 23, 23, 54, 296180), 'pname__1': 'Iti Women Brown Embroidered Sheath Dress', 'gender__2': 'Women', 'description__2': 'Design Detail:Pink floral printed saree and has a printed borderBlouse PieceThe model is wearing a stitched version of the blouse, this blouse comes in a running material.', 'brand__2': 'Kvsfab', 'color__2': ' Pink', 'embeddings__2': '[0.03207236900925636,-0.03765983507037163,-0.0002883423585444689,0.02180430479347706,0.0024868426844477654,-0.017658300697803497,-0.02963067591190338 ... (15940 characters truncated) ... 0.012943262234330177,0.003913975786417723,0.047213975340127945,-0.01923970878124237,0.025965288281440735,-0.010565197095274925,-0.022061612457036972]', 'n_images__2': 6, 'price__2': 1414, 'pid__2': 10173183, 'added_timestamp__2': datetime.datetime(2023, 11, 2, 23, 23, 54, 296182), 'pname__2': 'Kvsfab Pink Printed Poly Georgette Saree', 'gender__3': 'Women', 'description__3': 'Peach-Coloured embroidered lehenga choli with dupatta, Peach-Coloured blouse, has a round neck, three-quarter sleevesPeach-Coloured semi-stitched lehenga, flared hemPeach-Coloured embroidered dupatta, has tapping boreder', 'brand__3': 'Stylee LIFESTYLE', 'color__3': ' Red', 'embeddings__3': '[-0.00610236544162035,0.03950335085391998,0.0034587429836392403,0.04570579156279564,-0.021594513207674026,-0.01209239475429058,-0.040895476937294006, ... (15926 characters truncated) ... ,0.011442979797720909,-0.012993868440389633,0.021502571180462837,-0.03155747801065445,0.06013287976384163,0.012591072358191013,-0.038214974105358124]', 'n_images__3': 5, 'price__3': 4579, 'pid__3': 10168463, 'added_timestamp__3': datetime.datetime(2023, 11, 2, 23, 23, 54, 296183), 'pname__3': 'Stylee LIFESTYLE Peach-Coloured Semi-Stitched Lehenga & Blouse with Dupatta', 'gender__4': 'Men', 'description__4': 'Coral pink and navy blue checked smart casual shirt, has a spread collar, long sleeves, button placket, and curved hem', 'brand__4': 'Indian Terrain', 'color__4': 'Blue', 'embeddings__4': '[-0.03836424648761749,0.012182819657027721,0.012092933990061283,-0.01668553426861763,-0.0006641260697506368,-0.013555796816945076,-0.0580372437834739 ... (15915 characters truncated) ... 198,0.03631424531340599,0.002424442209303379,-0.00026380119379609823,0.02912045456469059,0.05009005591273308,-0.0275587011128664,0.03846057504415512]', 'n_images__4': 5, 'price__4': 989, 'pid__4': 10154921, 'added_timestamp__4': datetime.datetime(2023, 11, 2, 23, 23, 54, 296185), 'pname__4': 'Indian Terrain Men Coral Pink & Navy Blue Slim Fit Checked Smart Casual Shirt' ... 9900 parameters truncated ... 'gender__995': 'Women', 'description__995': 'Navy and pink printed woven midi A-line dress, has a keyhole neck, short sleeves, and flared hem', 'brand__995': 'GERUA', 'color__995': 'Blue', 'embeddings__995': '[-0.0009898263961076736,0.006356451194733381,-0.004691628739237785,0.018692007288336754,-0.026634283363819122,-0.036262888461351395,-0.04555796831846 ... (15932 characters truncated) ... 016738852486014366,-0.005414367187768221,0.06616231054067612,-0.018381306901574135,-0.010119135491549969,-0.013951107859611511,-0.011885280720889568]', 'n_images__995': 5, 'price__995': 607, 'pid__995': 10178819, 'added_timestamp__995': datetime.datetime(2023, 11, 2, 23, 23, 54, 298026), 'pname__995': 'GERUA Women Navy Blue & Pink Printed Midi A-Line Dress', 'gender__996': 'Women', 'description__996': 'A pair of yellow solid ankle-length leggings, has an elasticated waistband with a slip-on closure', 'brand__996': 'AURELIA', 'color__996': ' Yellow', 'embeddings__996': '[-0.034132979810237885,0.018406663089990616,-0.019355205819010735,-0.012043469585478306,0.036914631724357605,0.0020006189588457346,0.0018401254201307 ... (15966 characters truncated) ... 4,-0.021555542945861816,-0.010708216577768326,-0.06846702098846436,0.03721418231725693,0.07852546125650406,-0.005378227215260267,-0.0067622778005898]', 'n_images__996': 5, 'price__996': 349, 'pid__996': 10185241, 'added_timestamp__996': datetime.datetime(2023, 11, 2, 23, 23, 54, 298028), 'pname__996': 'AURELIA Women Yellow Solid Ankle-Length Leggings', 'gender__997': 'Women', 'description__997': 'Maroon and golden printed straight kurta with tassel detail, has a keyhole neck, three-quarter sleeves, straight hem, and side slits', 'brand__997': 'AURELIA', 'color__997': ' Maroon', 'embeddings__997': '[-0.0006797665846534073,-0.027099713683128357,-0.012609229423105717,0.005412849597632885,0.004129963926970959,0.002965182764455676,-0.015360873192548 ... (15929 characters truncated) ... .009664282202720642,0.0022326044272631407,-0.05524568632245064,0.027401605620980263,0.036496732383966446,-2.0184977984172292e-05,0.02085021696984768]', 'n_images__997': 5, 'price__997': 779, 'pid__997': 10185353, 'added_timestamp__997': datetime.datetime(2023, 11, 2, 23, 23, 54, 298029), 'pname__997': 'AURELIA Women Maroon & Golden Printed Straight Kurta', 'gender__998': 'Women', 'description__998': 'Beige self design overcoat, has a spread collar, 2 pockets, button closure, long sleeves, straight hem, fleece lining', 'brand__998': 'AURELIA', 'color__998': ' Beige', 'embeddings__998': '[-0.009524254128336906,0.03263000398874283,0.003211169270798564,0.007804809603840113,-0.021057484671473503,-0.0027219655457884073,-0.0236098170280456 ... (15903 characters truncated) ... .009983698837459087,-0.006715673487633467,0.008652541786432266,0.006959490478038788,0.02421877533197403,-0.024568453431129456,-0.0011763771763071418]', 'n_images__998': 7, 'price__998': 1839, 'pid__998': 10185235, 'added_timestamp__998': datetime.datetime(2023, 11, 2, 23, 23, 54, 298031), 'pname__998': 'AURELIA Women Beige Self Design Overcoat', 'gender__999': 'Men', 'description__999': 'Black dark wash 5-pocket mid-rise jeans, clean look, light fade, has a button and zip closure, and waistband with belt loops', 'brand__999': 'WROGN', 'color__999': ' Black', 'embeddings__999': '[-0.06524377316236496,0.08747879415750504,0.036177363246679306,-0.02292972430586815,-0.01211407408118248,-0.0153134074062109,-0.0395016223192215,0.06 ... (15946 characters truncated) ... 4,0.001591873704455793,0.02998768724501133,-0.03515811264514923,0.028557829558849335,0.041237156838178635,-0.05742744728922844,-0.003945478238165379]', 'n_images__999': 7, 'price__999': 1679, 'pid__999': 10187345, 'added_timestamp__999': datetime.datetime(2023, 11, 2, 23, 23, 54, 298033), 'pname__999': 'WROGN Men Black Skinny Fit Mid-Rise Clean Look Stretchable Jeans'}\n",
      "2023-11-02 23:26:13,021 INFO sqlalchemy.engine.Engine INSERT INTO products (pid, pname, brand, gender, price, n_images, description, color, embeddings, added_timestamp) VALUES (%(pid__0)s, %(pname__0)s, %(brand__0)s, %(gender__0)s, %(price__0)s, %(n_images__0)s, %(description__0)s, %(color__0)s, %(embed ... 183670 characters truncated ... _images__999)s, %(description__999)s, %(color__999)s, %(embeddings__999)s, %(added_timestamp__999)s)\n"
     ]
    },
    {
     "name": "stdout",
     "output_type": "stream",
     "text": [
      "2023-11-02 23:26:13,023 INFO sqlalchemy.engine.Engine [insertmanyvalues 8/13 (unordered)] {'gender__0': 'Women', 'description__0': 'Charcoal grey solid knitted churidar length leggings, has an elasticated waistband', 'brand__0': 'AURELIA', 'color__0': ' Grey', 'embeddings__0': '[-0.0338328592479229,0.012244275771081448,-0.005001162178814411,-0.013694575987756252,0.019708311185240746,0.012370853684842587,-0.00905206985771656, ... (15914 characters truncated) ... ,-0.02162141166627407,-0.03025338053703308,-0.04865453392267227,0.018905673176050186,0.08287541568279266,-0.046329207718372345,-0.012554308399558067]', 'n_images__0': 5, 'price__0': 499, 'pid__0': 10185901, 'added_timestamp__0': datetime.datetime(2023, 11, 2, 23, 23, 54, 298036), 'pname__0': 'AURELIA Women Charcoal Grey Solid Churidar Length Leggings', 'gender__1': 'Women', 'description__1': 'Red solid sling bag, has a zip closure1 main compartment, 2 inner pockets, 1 external pocketTablet sleeve: NoHas non-detachable sling strap', 'brand__1': 'Lavie', 'color__1': ' Red', 'embeddings__1': '[0.02310202270746231,-0.01934337057173252,-0.004969239234924316,0.021644538268446922,0.006797073874622583,-0.003568141721189022,-0.006931071169674396 ... (15899 characters truncated) ... 0.0064506325870752335,0.009064801037311554,-0.026949115097522736,0.020587781444191933,0.01823226362466812,-0.011373726651072502,-0.01987389102578163]', 'n_images__1': 6, 'price__1': 3039, 'pid__1': 10186079, 'added_timestamp__1': datetime.datetime(2023, 11, 2, 23, 23, 54, 298037), 'pname__1': 'Lavie Women Red Solid Sling Bag', 'gender__2': 'Women', 'description__2': 'Brown solid backpackNon-Padded haul loop1 main compartment with magnetic button & drawstring closureHas 3 inner pocketsNon-Padded backPadded shoulder strap: Non-PaddedWater-resistance: No', 'brand__2': 'Global Desi', 'color__2': ' Brown', 'embeddings__2': '[0.025452693924307823,-0.03028610721230507,-0.016599547117948532,0.0374370813369751,0.0267418771982193,0.009605685248970985,-0.004100698046386242,-0. ... (15916 characters truncated) ... 078699812293053,-0.0016706936294212937,-0.025430504232645035,-0.0007954505854286253,0.058194275945425034,-0.012629496864974499,-0.030667193233966827]', 'n_images__2': 6, 'price__2': 2794, 'pid__2': 10178959, 'added_timestamp__2': datetime.datetime(2023, 11, 2, 23, 23, 54, 298039), 'pname__2': 'Global Desi Women Brown Tassel Detail Backpack', 'gender__3': 'Women', 'description__3': 'Peach-coloured self-striped shirt, has a spread collar, a full button placket, long sleeves, two chest pockets, a lace yoke on the back,\\xa0a curved hem', 'brand__3': 'ONLY', 'color__3': ' Red', 'embeddings__3': '[-0.00043809995986521244,0.05490635707974434,-0.002366863191127777,0.01646769791841507,-0.019124895334243774,-0.01966766081750393,-0.0177996829152107 ... (15947 characters truncated) ... 23707278072834015,-0.006813812535256147,0.015418745577335358,0.00016047139069996774,0.04070688784122467,-0.028077736496925354,-0.0035967379808425903]', 'n_images__3': 6, 'price__3': 593, 'pid__3': 1017695, 'added_timestamp__3': datetime.datetime(2023, 11, 2, 23, 23, 54, 298041), 'pname__3': 'ONLY Peach-Coloured Shirt', 'gender__4': 'Women', 'description__4': 'Blue solid mid-rise cropped cigarette trousers, has a partially elasticated waistband with concealed zip closure, and 1 pocket', 'brand__4': 'Alena', 'color__4': 'Blue', 'embeddings__4': '[-0.03492714464664459,0.009921177290380001,0.010086799040436745,-0.018742911517620087,0.02396818995475769,-0.009884997271001339,-0.003655796172097325 ... (15916 characters truncated) ... 63,-0.01625857874751091,0.010700731538236141,-0.008581424131989479,0.014182241633534431,0.05518646165728569,-0.0470840148627758,0.001889164443127811]', 'n_images__4': 5, 'price__4': 491, 'pid__4': 10180561, 'added_timestamp__4': datetime.datetime(2023, 11, 2, 23, 23, 54, 298043), 'pname__4': 'Alena Women Blue Slim Fit Solid Cropped Cigarette Trousers' ... 9900 parameters truncated ... 'gender__995': 'Women', 'description__995': 'Black and off-white printed A-line kurta, has a notched round neck, three-quarter sleeves, flared hem', 'brand__995': 'W', 'color__995': ' Black', 'embeddings__995': '[-0.00581155251711607,-0.03528103604912758,0.011676226742565632,0.03572797402739525,-0.011192203499376774,-0.013925192877650261,-0.01583748124539852, ... (15964 characters truncated) ... 0.007918324321508408,0.0016257315874099731,-0.006459918338805437,0.011048712767660618,0.008191190659999847,-0.02784106694161892,0.009497039951384068]', 'n_images__995': 5, 'price__995': 2499, 'pid__995': 10207151, 'added_timestamp__995': datetime.datetime(2023, 11, 2, 23, 23, 54, 300360), 'pname__995': 'W Women Black & Off-White Printed A-Line Kurta', 'gender__996': 'Unisex', 'description__996': 'Set content: 2 Window curtainsColour: BrownPattern: Geometric WindowLight blocking: RegularFitting: EyeletLining: No', 'brand__996': 'Cortina', 'color__996': ' Brown', 'embeddings__996': '[-0.0061544012278318405,-0.03002859279513359,-0.0009915221016854048,0.005443844944238663,-0.0835738256573677,-0.014056832529604435,0.0281276907771825 ... (15936 characters truncated) ... ,-0.02959483675658703,-0.0293181873857975,-0.026096539571881294,-0.03550451248884201,0.01809808798134327,0.009433724917471409,-0.0036896001547574997]', 'n_images__996': 4, 'price__996': 450, 'pid__996': 10202513, 'added_timestamp__996': datetime.datetime(2023, 11, 2, 23, 23, 54, 300362), 'pname__996': 'Cortina Brown Set of 2 Printed Window Curtains', 'gender__997': 'Women', 'description__997': 'A pair of black printed flip flopsSynthetic upper materialCushioned footbedPatterned synthetic outsole', 'brand__997': 'Shoetopia', 'color__997': ' Black', 'embeddings__997': '[0.01983758807182312,-0.020466338843107224,-0.01681932434439659,0.021147219464182854,0.009018483571708202,0.05721306428313255,0.03776787593960762,0.0 ... (15903 characters truncated) ... 70108,-0.011649753898382187,0.0368492417037487,-0.020826969295740128,0.01934589445590973,0.0766194611787796,-0.01289706863462925,0.04003344848752022]', 'n_images__997': 5, 'price__997': 449, 'pid__997': 10189739, 'added_timestamp__997': datetime.datetime(2023, 11, 2, 23, 23, 54, 300363), 'pname__997': 'Shoetopia Women Black Printed Sliders', 'gender__998': 'Women', 'description__998': 'A pair of navy\\xa0hem design woven wide leg fit palazzos, has semi-elasticated waistband with inner drawstring closure', 'brand__998': 'W', 'color__998': ' Navy', 'embeddings__998': '[-0.051242489367723465,0.040404438972473145,-0.028504177927970886,0.01061642449349165,-0.022792402654886246,0.016383785754442215,-0.00765579380095005 ... (15922 characters truncated) ... 225,0.04749106243252754,-0.0254515390843153,-0.051423054188489914,-0.019455213099718094,0.04921234771609306,-0.0354185625910759,-0.03588569536805153]', 'n_images__998': 5, 'price__998': 674, 'pid__998': 10206761, 'added_timestamp__998': datetime.datetime(2023, 11, 2, 23, 23, 54, 300365), 'pname__998': 'W Women Navy Hem Design Wide Leg Palazzos', 'gender__999': 'Women', 'description__999': 'Grey and Navy Blue striped straight kurta, has a mandarin collar, three-quarter sleeves, straight hem, side slits, button placket', 'brand__999': 'W', 'color__999': 'Blue', 'embeddings__999': '[-0.004304507747292519,-0.0027046995237469673,-0.006477775052189827,0.024859590455889702,-0.005574383772909641,-0.015885645523667336,-0.0627200156450 ... (15977 characters truncated) ... -0.007575385272502899,0.0022971434518694878,-0.03317015618085861,0.003644326003268361,0.030388789251446724,-0.02425694651901722,0.008241893723607063]', 'n_images__999': 6, 'price__999': 679, 'pid__999': 10206865, 'added_timestamp__999': datetime.datetime(2023, 11, 2, 23, 23, 54, 300367), 'pname__999': 'W Women Grey & Navy Blue Striped Straight Sustainable Kurta'}\n",
      "2023-11-02 23:26:23,569 INFO sqlalchemy.engine.Engine INSERT INTO products (pid, pname, brand, gender, price, n_images, description, color, embeddings, added_timestamp) VALUES (%(pid__0)s, %(pname__0)s, %(brand__0)s, %(gender__0)s, %(price__0)s, %(n_images__0)s, %(description__0)s, %(color__0)s, %(embed ... 183670 characters truncated ... _images__999)s, %(description__999)s, %(color__999)s, %(embeddings__999)s, %(added_timestamp__999)s)\n"
     ]
    },
    {
     "name": "stdout",
     "output_type": "stream",
     "text": [
      "2023-11-02 23:26:23,571 INFO sqlalchemy.engine.Engine [insertmanyvalues 9/13 (unordered)] {'gender__0': 'Women', 'description__0': 'Display: AnalogueMovement: QuartzPower source: BatteryDial style: Printed round brass dialFeatures: Reset TimeStrap style: White regular, leather strap with a tang closureWater resistance: Non-ResistantWarranty: 1 yearWarranty provided by brand/manufacturer Comes in a signature Chumbak case', 'brand__0': 'Chumbak', 'color__0': ' White', 'embeddings__0': '[-0.008206903003156185,-0.008878250606358051,0.0016187960281968117,0.017077872529625893,-0.008461406454443932,0.03892692178487778,0.02661696821451187 ... (15936 characters truncated) ... 7,-0.022638821974396706,0.008025945164263248,0.04857403039932251,-0.013497141189873219,0.031025610864162445,-0.04937513917684555,-0.0078066261485219]', 'n_images__0': 6, 'price__0': 1017, 'pid__0': 10207241, 'added_timestamp__0': datetime.datetime(2023, 11, 2, 23, 23, 54, 300369), 'pname__0': 'Chumbak Women White Analogue Watch', 'gender__1': 'Men', 'description__1': 'Soft jersey knit.Short sleeves.Contrast rib-knit trim crewneck.Allover burnout wash, adds subtle texture for worn-in look and feel.Certain styles have assorted all-over stripes.', 'brand__1': 'GAP', 'color__1': nan, 'embeddings__1': '[-0.012441491708159447,0.04929281398653984,-0.004472858272492886,0.024974655359983444,-0.0741855651140213,0.02068008854985237,0.024449098855257034,0. ... (15910 characters truncated) ... 3434,0.028474235907197,0.007261200342327356,0.05438960716128349,0.01626828871667385,-0.010265511460602283,0.0008220453164540231,-0.01641785353422165]', 'n_images__1': 5, 'price__1': 1499, 'pid__1': 10205435, 'added_timestamp__1': datetime.datetime(2023, 11, 2, 23, 23, 54, 300372), 'pname__1': \"GAP Men's Burnout Ringer Crewneck T-Shirt\", 'gender__2': 'Men', 'description__2': 'Navy Blue printed casual shirt, has a spread collar, long sleeves, button placket, curved hem, and 1 patch pocket', 'brand__2': 'Van Heusen Sport', 'color__2': 'Blue', 'embeddings__2': '[-0.017505714669823647,-0.0031755813397467136,0.021426910534501076,-0.002728184452280402,-0.044425588101148605,-0.04093588888645172,-0.04207164421677 ... (15920 characters truncated) ... 0.008901480585336685,0.034606870263814926,0.005941402167081833,0.062083784490823746,0.008857201784849167,0.00041139492532238364,0.006228627171367407]', 'n_images__2': 5, 'price__2': 979, 'pid__2': 10202633, 'added_timestamp__2': datetime.datetime(2023, 11, 2, 23, 23, 54, 300373), 'pname__2': 'Van Heusen Sport Men Navy Blue Tight Slim Fit Printed Casual Shirt', 'gender__3': 'Women', 'description__3': 'Blue printed straight kurta, has a round neck, sleeveless, straight hem, and side slits', 'brand__3': 'Naari', 'color__3': 'Blue', 'embeddings__3': '[0.013314621523022652,-0.05520036071538925,-0.022911973297595978,0.0009763319976627827,-0.03420161083340645,-0.017064621672034264,-0.0067975101992487 ... (15923 characters truncated) ... .005645350553095341,-0.007322333753108978,-0.06117802858352661,-0.003790079616010189,0.030032020062208176,-0.022185124456882477,0.016455886885523796]', 'n_images__3': 5, 'price__3': 671, 'pid__3': 10188795, 'added_timestamp__3': datetime.datetime(2023, 11, 2, 23, 23, 54, 300375), 'pname__3': 'Naari Women Blue Printed Straight Kurta', 'gender__4': 'Women', 'description__4': 'Teal green and golden striped A-line layered kurta, has a shirt collar, three-quarter sleeves and flared hem', 'brand__4': 'W', 'color__4': ' Green', 'embeddings__4': '[0.008033300749957561,-0.03965868800878525,-0.0027419740799814463,0.03238411992788315,-0.02271132916212082,-0.013387290760874748,-0.06176483631134033 ... (15922 characters truncated) ... 0.018171917647123337,0.014771590009331703,-0.028881793841719627,0.0023668422363698483,0.01739724911749363,-0.019405096769332886,0.012452485971152782]', 'n_images__4': 6, 'price__4': 1399, 'pid__4': 10206997, 'added_timestamp__4': datetime.datetime(2023, 11, 2, 23, 23, 54, 300376), 'pname__4': 'W Women Teal Green & Golden Striped A-Line Layered Kurta' ... 9900 parameters truncated ... 'gender__995': 'Men', 'description__995': 'Blue Checked Single-Breasted Slim Fit Formal Blazer, has notched lapel, long sleeves', 'brand__995': 'Van Heusen', 'color__995': 'Blue', 'embeddings__995': '[-0.0318526066839695,-0.03290049731731415,0.020498128607869148,0.008043922483921051,-0.05846342816948891,-0.01850813440978527,-0.016094781458377838,0 ... (15926 characters truncated) ... ,0.02532227709889412,-0.0003935141139663756,-0.02232765033841133,0.012904730625450611,0.009214028716087341,0.04344362020492554,-0.015932822600007057]', 'n_images__995': 5, 'price__995': 3149, 'pid__995': 10234813, 'added_timestamp__995': datetime.datetime(2023, 11, 2, 23, 23, 54, 302106), 'pname__995': 'Van Heusen Men Blue Checked Single-Breasted Slim Fit Formal Blazer', 'gender__996': 'Women', 'description__996': 'Black and Red printed woven fit and flare %S, has a V-neck, short sleeves, and asymmetric hem', 'brand__996': 'Lady Stark', 'color__996': ' Red', 'embeddings__996': '[0.010065695270895958,-0.04817229136824608,-0.0063868118450045586,0.05612587556242943,-0.009793871082365513,-0.03571856766939163,-0.10187016427516937 ... (15945 characters truncated) ... -0.028819458559155464,-0.015911340713500977,0.003786980640143156,0.01983189769089222,0.049280814826488495,-0.025357281789183617,0.007962722331285477]', 'n_images__996': 5, 'price__996': 1666, 'pid__996': 10217589, 'added_timestamp__996': datetime.datetime(2023, 11, 2, 23, 23, 54, 302107), 'pname__996': 'Lady Stark Women Black & Red Floral Printed Fit and Flare Dress', 'gender__997': 'Men', 'description__997': 'Grey Melange and Black colourblocked front-open sweater, has a hood, long sleeves, zip closure, and ribbed hem', 'brand__997': 'Roadster', 'color__997': ' Black', 'embeddings__997': '[-0.003911586012691259,0.029032478109002113,0.02500499039888382,0.05448165908455849,-0.048081424087285995,-0.004494633991271257,0.014389236457645893, ... (15918 characters truncated) ... 02862969972193241,0.0031980329658836126,-0.013949677348136902,-0.024511834606528282,0.001979581546038389,-0.042133964598178864,-0.012435290962457657]', 'n_images__997': 5, 'price__997': 594, 'pid__997': 10215849, 'added_timestamp__997': datetime.datetime(2023, 11, 2, 23, 23, 54, 302109), 'pname__997': 'Roadster Men Grey Melange & Black Colourblocked Front-Open Sweater', 'gender__998': 'Boys', 'description__998': 'Red, green and charcoal grey striped sweatshirt with embroidered detail, has a round neck, long sleeves, straight hem', 'brand__998': 'U.S. Polo Assn. Kids', 'color__998': ' Green', 'embeddings__998': '[-0.0076240673661231995,0.007237400393933058,0.006078991573303938,0.03415701910853386,0.028472289443016052,-0.019903481006622314,0.0184782762080431,0 ... (15892 characters truncated) ... 2,0.04488727077841759,0.0012897162232547998,0.03779328241944313,0.019891813397407532,0.016542816534638405,0.010704283602535725,-0.029712114483118057]', 'n_images__998': 4, 'price__998': 849, 'pid__998': 10212927, 'added_timestamp__998': datetime.datetime(2023, 11, 2, 23, 23, 54, 302110), 'pname__998': 'U.S. Polo Assn. Kids Boys Red & Green Striped Sweatshirt', 'gender__999': 'Women', 'description__999': 'A pair of White solid woven flared fit Palazzos, opaque, 2 pockets, and slip-on closure', 'brand__999': 'RAISIN', 'color__999': ' Red', 'embeddings__999': '[-0.015041894279420376,0.004189112689346075,-0.012568053789436817,0.03180132433772087,0.01218635868281126,0.019593847915530205,-0.0037238053046166897 ... (15956 characters truncated) ... -0.017841102555394173,0.015513504855334759,-0.04601028561592102,-0.0436260886490345,0.03101390041410923,-0.0013992913300171494,-0.004595124628394842]', 'n_images__999': 5, 'price__999': 636, 'pid__999': 10232991, 'added_timestamp__999': datetime.datetime(2023, 11, 2, 23, 23, 54, 302112), 'pname__999': 'RAISIN Women White Solid Flared Palazzos'}\n",
      "2023-11-02 23:26:34,346 INFO sqlalchemy.engine.Engine INSERT INTO products (pid, pname, brand, gender, price, n_images, description, color, embeddings, added_timestamp) VALUES (%(pid__0)s, %(pname__0)s, %(brand__0)s, %(gender__0)s, %(price__0)s, %(n_images__0)s, %(description__0)s, %(color__0)s, %(embed ... 183670 characters truncated ... _images__999)s, %(description__999)s, %(color__999)s, %(embeddings__999)s, %(added_timestamp__999)s)\n"
     ]
    },
    {
     "name": "stdout",
     "output_type": "stream",
     "text": [
      "2023-11-02 23:26:34,347 INFO sqlalchemy.engine.Engine [insertmanyvalues 10/13 (unordered)] {'gender__0': 'Girls', 'description__0': 'Red solid Open Front Jacket, has a spread collar, 2 pockets, button closure, long sleeves, hem with toggle hem', 'brand__0': 'U.S. Polo Assn. Kids', 'color__0': ' Red', 'embeddings__0': '[0.009479990229010582,-0.042210109531879425,0.003233256982639432,0.05335729196667671,0.05559425428509712,-0.0035138556268066168,0.007834509015083313, ... (15921 characters truncated) ... 605,0.0244683176279068,0.01346330251544714,0.10057403147220612,-0.011585800908505917,0.01226053200662136,-0.003451623022556305,-0.014940154738724232]', 'n_images__0': 5, 'price__0': 1649, 'pid__0': 10213231, 'added_timestamp__0': datetime.datetime(2023, 11, 2, 23, 23, 54, 302113), 'pname__0': 'U.S. Polo Assn. Kids Girls Red Solid Open Front Jacket', 'gender__1': 'Women', 'description__1': 'Olive Green solid zip around wallet, has a wrist loop1 main compartment, a separator sleeve and a zip separator sleeve12 card holders, 2 slip pockets1 external pocket', 'brand__1': 'GUESS', 'color__1': ' Green', 'embeddings__1': '[0.024884097278118134,0.012690841220319271,-0.0006817015819251537,0.01752690225839615,0.01696762442588806,0.016161691397428513,0.013180013746023178,0 ... (15925 characters truncated) ... ,0.00489532807841897,-0.003335988614708185,0.07097699493169785,-0.002543304581195116,0.04426753893494606,0.0058710589073598385,-0.013475313782691956]', 'n_images__1': 6, 'price__1': 4599, 'pid__1': 10233401, 'added_timestamp__1': datetime.datetime(2023, 11, 2, 23, 23, 54, 302115), 'pname__1': 'GUESS Women Olive Green Solid Zip Around Wallet', 'gender__2': 'Men', 'description__2': 'A pair of orange and black solid flip flopsRubber upper materialCushioned footbedPatterned rubber outsoleWarranty: 1 monthWarranty provided by brand/manufacturer', 'brand__2': 'United Colors of Benetton', 'color__2': ' Black', 'embeddings__2': '[-0.010974617674946785,0.016021568328142166,0.0007944231037981808,0.02545824460685253,0.004473154433071613,0.018576420843601227,0.006823843810707331, ... (15944 characters truncated) ... -0.016409171745181084,-0.007722311653196812,-0.04494347795844078,0.03547796607017517,0.029071370139718056,-0.005289049819111824,0.016729338094592094]', 'n_images__2': 5, 'price__2': 499, 'pid__2': 10219569, 'added_timestamp__2': datetime.datetime(2023, 11, 2, 23, 23, 54, 302117), 'pname__2': 'United Colors of Benetton Men Orange & Black Solid Thong Flip-Flops', 'gender__3': 'Men', 'description__3': 'Black solid track pants, elasticated waist band Three pockets and drawstring closure', 'brand__3': 'Force NXT', 'color__3': ' Black', 'embeddings__3': '[-0.02977379597723484,0.012651460245251656,0.013615401461720467,0.018178828060626984,-0.024863246828317642,-0.00590997701510787,-0.008192073553800583 ... (15937 characters truncated) ... ,-0.012241136282682419,0.050857119262218475,0.020350437611341476,0.03741278871893883,0.013321876525878906,-0.008826625533401966,0.040285591036081314]', 'n_images__3': 5, 'price__3': 809, 'pid__3': 10220751, 'added_timestamp__3': datetime.datetime(2023, 11, 2, 23, 23, 54, 302119), 'pname__3': 'Force NXT Mens Black Track Pants', 'gender__4': 'Women', 'description__4': 'This Hair Care Regime consists of\\xa0Bringadi Intensive Hair TreatmentRose and Jasmine Hair CleanserRose and Jasmine Hair Conditioner', 'brand__4': 'KAMA AYURVEDA', 'color__4': nan, 'embeddings__4': '[0.08590097725391388,-0.0031779231503605843,0.012097317725419998,-0.0009755401406437159,0.030408363789319992,-0.002200548304244876,0.0322433263063430 ... (15910 characters truncated) ... .026311876252293587,0.02250862494111061,-0.013406982645392418,-0.011255131103098392,0.010352585464715958,-0.11290965974330902,-0.0069398051127791405]', 'n_images__4': 6, 'price__4': 840, 'pid__4': 10231651, 'added_timestamp__4': datetime.datetime(2023, 11, 2, 23, 23, 54, 302121), 'pname__4': 'KAMA AYURVEDA Sustainable Set of 3 Hair Care Regime' ... 9900 parameters truncated ... 'gender__995': 'Women', 'description__995': 'Smooth, lightweight, flowy weaveSlightly sheerShort flutter sleeves.Mandarin collarAll over print', 'brand__995': 'GAP', 'color__995': nan, 'embeddings__995': '[0.003271340159699321,0.02397376298904419,-0.03528491035103798,0.035837460309267044,-0.00256591709330678,-0.011841997504234314,0.006292438134551048,0 ... (15945 characters truncated) ... 192,0.018642975017428398,0.013849668204784393,0.05482401326298714,-0.017830651253461838,0.02410065568983555,0.015552722848951817,-0.0260008554905653]', 'n_images__995': 5, 'price__995': 1149, 'pid__995': 10243483, 'added_timestamp__995': datetime.datetime(2023, 11, 2, 23, 23, 54, 303887), 'pname__995': 'Gap Women Mandarin Collar Print Flutter Sleeve Top', 'gender__996': 'Men', 'description__996': 'Purple and white self-design formal shirt, has a spread collar, long sleeves, button placket, curved hem, and 1 patch pocket', 'brand__996': 'Park Avenue', 'color__996': ' White', 'embeddings__996': '[-0.014694909565150738,0.054131921380758286,0.0192759670317173,0.039085958153009415,-0.02501474693417549,-0.03973780572414398,-0.0014940939145162702, ... (15934 characters truncated) ... ,0.018097782507538795,0.0033322644885629416,0.026438692584633827,0.017409615218639374,0.030615536496043205,0.010020062327384949,0.011429382488131523]', 'n_images__996': 6, 'price__996': 999, 'pid__996': 10237209, 'added_timestamp__996': datetime.datetime(2023, 11, 2, 23, 23, 54, 303888), 'pname__996': 'Park Avenue Men Purple & White Slim Fit Self Design Formal Shirt', 'gender__997': 'Women', 'description__997': 'A pair of blue open-toed flats, has regular styling, no back strap detailSynthetic upperCushioned footbedTextured and patterned outsoleWarranty: 2 monthsWarranty provided by brand/manufacturer', 'brand__997': 'Inc 5', 'color__997': 'Blue', 'embeddings__997': '[-0.024613380432128906,-0.04516657814383507,0.0212715957313776,0.050226032733917236,0.0011390328872948885,0.019826482981443405,-0.018571270629763603, ... (15921 characters truncated) ... 0.0011720085749402642,0.03457830846309662,-0.027396490797400475,0.011075885035097599,0.017598168924450874,-0.015384282916784286,0.026485279202461243]', 'n_images__997': 5, 'price__997': 591, 'pid__997': 10245971, 'added_timestamp__997': datetime.datetime(2023, 11, 2, 23, 23, 54, 303890), 'pname__997': 'Inc 5 Women Blue Solid Open Toe Flats', 'gender__998': 'Women', 'description__998': 'Design Detail:Peach-Coloured kanjeevaram  striped saree and has a zari border Blouse PieceThe model is wearing a blouse from our stylists collection, ... (114 characters truncated) ... nchipuram region in Tamil Nadu. The fabric bears the images of all the scriptures embossed on the walls of the temples of the Kanchipuram\\xa0village.', 'brand__998': 'Varkala Silk Sarees', 'color__998': ' Red', 'embeddings__998': '[0.016661470755934715,-0.0032656092662364244,-0.01357041485607624,0.004179084207862616,-0.027166392654180527,-0.03464966639876366,-0.0385684520006179 ... (15943 characters truncated) ... 2460663439705968,-0.040707770735025406,-0.013005835004150867,-0.0018345502903684974,0.028679342940449715,-0.013776976615190506,-0.027775071561336517]', 'n_images__998': 5, 'price__998': 5600, 'pid__998': 10238471, 'added_timestamp__998': datetime.datetime(2023, 11, 2, 23, 23, 54, 303892), 'pname__998': 'Varkala Silk Sarees Peach-Coloured Silk Blend Striped Kanjeevaram Saree', 'gender__999': 'Men', 'description__999': 'White solid casual shirt, has a button-down collar, long sleeves, button placket, curved hem, and 1 patch pocket', 'brand__999': 'Basics', 'color__999': ' White', 'embeddings__999': '[-0.02633185125887394,0.022169819101691246,0.03778156265616417,-0.011088521219789982,-0.023656247183680534,-0.019562849774956703,-0.01758652552962303 ... (15931 characters truncated) ... 54,0.0018767485162243247,0.01638791151344776,0.005324068013578653,0.04313034191727638,0.016458729282021523,-0.016233380883932114,0.01958901435136795]', 'n_images__999': 5, 'price__999': 1259, 'pid__999': 10245045, 'added_timestamp__999': datetime.datetime(2023, 11, 2, 23, 23, 54, 303893), 'pname__999': 'Basics Men White Slim Fit Solid Casual Shirt'}\n",
      "2023-11-02 23:26:43,022 INFO sqlalchemy.engine.Engine INSERT INTO products (pid, pname, brand, gender, price, n_images, description, color, embeddings, added_timestamp) VALUES (%(pid__0)s, %(pname__0)s, %(brand__0)s, %(gender__0)s, %(price__0)s, %(n_images__0)s, %(description__0)s, %(color__0)s, %(embed ... 183670 characters truncated ... _images__999)s, %(description__999)s, %(color__999)s, %(embeddings__999)s, %(added_timestamp__999)s)\n"
     ]
    },
    {
     "name": "stdout",
     "output_type": "stream",
     "text": [
      "2023-11-02 23:26:43,024 INFO sqlalchemy.engine.Engine [insertmanyvalues 11/13 (unordered)] {'gender__0': 'Men', 'description__0': 'The classic, one-and-doneSmooth, soft poplin weave with stretchLong sleeves with button cuffsButton collar, button frontChest patch pocketCurved shirt tail hemRear pleat at back yoke', 'brand__0': 'GAP', 'color__0': nan, 'embeddings__0': '[-0.035365018993616104,0.025198213756084442,-0.011756335385143757,0.007143646478652954,-0.05270123854279518,-0.015274775214493275,0.00922527257353067 ... (15954 characters truncated) ... 65,-0.0008394002798013389,0.025223495438694954,0.025663577020168304,0.05831265076994896,0.02483483962714672,0.02220909483730793,0.016015540808439255]', 'n_images__0': 5, 'price__0': 1999, 'pid__0': 10236507, 'added_timestamp__0': datetime.datetime(2023, 11, 2, 23, 23, 54, 303894), 'pname__0': \"GAP Men's Checked Lived-In Stretch Poplin Shirt\", 'gender__1': 'Girls', 'description__1': 'Standout, specially designed graphics let you be youSoft knitDropped shoulders, shirring at volume sleeves with banded cuffsCrewneckGraphic at frontBanded hem', 'brand__1': 'GAP', 'color__1': nan, 'embeddings__1': '[0.002797783585265279,0.033588215708732605,-0.01418536901473999,0.01397731900215149,0.02680397592484951,0.03641945496201515,0.013976595364511013,0.00 ... (15928 characters truncated) ... ,-0.03242427110671997,0.02038736641407013,0.05853337422013283,0.0006080899620428681,0.018171850591897964,-0.015345228835940361,-0.013096360489726067]', 'n_images__1': 3, 'price__1': 1249, 'pid__1': 10244583, 'added_timestamp__1': datetime.datetime(2023, 11, 2, 23, 23, 54, 303896), 'pname__1': 'GAP Girls Graphic Sweatshirt', 'gender__2': 'Men', 'description__2': 'White and Black printed casual shirt, has a slim collar, short sleeves, button placket, curved hem', 'brand__2': 'Moda Rapido', 'color__2': ' Black', 'embeddings__2': '[-0.0148350540548563,0.00016838368901517242,0.02148524299263954,0.008899861015379429,0.0073625450022518635,-0.006969606503844261,-0.00979170110076665 ... (15957 characters truncated) ... ,0.006352066528052092,-0.0060771373100578785,0.009018934331834316,0.03322586044669151,0.039737772196531296,-0.014363132417201996,0.04028752073645592]', 'n_images__2': 5, 'price__2': 599, 'pid__2': 10245647, 'added_timestamp__2': datetime.datetime(2023, 11, 2, 23, 23, 54, 303897), 'pname__2': 'Moda Rapido Men White & Black Regular Fit Printed Casual Shirt', 'gender__3': 'Boys', 'description__3': 'Orange and navy printed T-shirt, has a round neck, and long sleeves', 'brand__3': 'Flying Machine', 'color__3': 'Blue', 'embeddings__3': '[-0.02187824435532093,0.004676896147429943,0.034286875277757645,0.008465911261737347,-0.00492361793294549,-0.01009337231516838,-0.07690350711345673,0 ... (15936 characters truncated) ... 0037323643919080496,0.021322274580597878,-0.00020044522534590214,0.019538484513759613,0.01378038339316845,-0.015180319547653198,-0.02012244611978531]', 'n_images__3': 3, 'price__3': 449, 'pid__3': 10247311, 'added_timestamp__3': datetime.datetime(2023, 11, 2, 23, 23, 54, 303900), 'pname__3': 'Flying Machine Boys Orange & Navy Blue Printed Sweatshirt', 'gender__4': 'Men', 'description__4': 'Coffee Brown solid mid-rise trousers, button closure, and 4 pockets', 'brand__4': 'Basics', 'color__4': ' Red', 'embeddings__4': '[-0.020218200981616974,-0.028858648613095284,0.02430499903857708,-0.024990279227495193,-0.039251405745744705,-0.022118477150797844,-0.021922945976257 ... (15950 characters truncated) ... 8,0.027539538219571114,-0.01448174100369215,-0.015934370458126068,0.006162757985293865,0.0376557819545269,-0.037477556616067886,0.006072608288377523]', 'n_images__4': 5, 'price__4': 1399, 'pid__4': 10242849, 'added_timestamp__4': datetime.datetime(2023, 11, 2, 23, 23, 54, 303901), 'pname__4': 'Basics Men Coffee Brown Tapered Fit Solid Regular Trousers' ... 9900 parameters truncated ... 'gender__995': 'Men', 'description__995': 'Design details:A pair of black football sports shoes, has regular styling, lace-up detailSynthetic upperCushioned footbedTextured and patterned outsoleWarranty: 3 monthsWarranty provided by brand/manufacturer', 'brand__995': 'Puma', 'color__995': ' Black', 'embeddings__995': '[-0.02381143346428871,-0.013412442989647388,0.01727905310690403,0.035171106457710266,0.04091554135084152,0.016459617763757706,-0.06423217058181763,0. ... (15941 characters truncated) ... 041,-0.01106803398579359,0.03294503316283226,-0.0476674884557724,0.0643358901143074,-0.001106916693970561,-0.025299066677689552,0.036099765449762344]', 'n_images__995': 8, 'price__995': 2699, 'pid__995': 10253435, 'added_timestamp__995': datetime.datetime(2023, 11, 2, 23, 23, 54, 305629), 'pname__995': 'Puma Men Black Monarch IT Football Shoes', 'gender__996': 'Boys', 'description__996': '  Orange and black Tshirt for boys   Typography printed   Regular length   Round neck   Long,  regular sleeves   Knitted cotton fabric  ', 'brand__996': 'Pepe Jeans', 'color__996': ' Black', 'embeddings__996': '[0.022368725389242172,0.05111590772867203,0.00886972714215517,0.023518748581409454,0.0012257560156285763,-0.012335018254816532,-0.028230415657162666, ... (15931 characters truncated) ... ,0.017713628709316254,0.000698912248481065,0.08943814784288406,0.003664674935862422,0.04662856087088585,-0.014825430698692799,-0.0067103346809744835]', 'n_images__996': 3, 'price__996': 449, 'pid__996': 10255759, 'added_timestamp__996': datetime.datetime(2023, 11, 2, 23, 23, 54, 305631), 'pname__996': 'Pepe Jeans Boys Orange & Black Typography Printed Cotton T-shirt', 'gender__997': 'Women', 'description__997': 'Navy Blue solid basic jumpsuit with pleats and embellished detail, has a keyhole neck, sleeveless, button and loop and concealed zip closure, two pockets,\\xa0has a lining', 'brand__997': 'QUIERO', 'color__997': 'Blue', 'embeddings__997': '[-0.022788871079683304,-0.007143901661038399,0.0027220621705055237,-0.029123226180672646,0.028957786038517952,-0.022837268188595772,-0.06371159106492 ... (15938 characters truncated) ... 76,-0.019674060866236687,0.020391147583723068,0.04205950349569321,0.01821497082710266,0.014993193559348583,0.026422226801514626,0.029338663443922997]', 'n_images__997': 5, 'price__997': 1262, 'pid__997': 10260313, 'added_timestamp__997': datetime.datetime(2023, 11, 2, 23, 23, 54, 305632), 'pname__997': 'QUIERO Women Navy Blue Solid Basic Jumpsuit', 'gender__998': 'Boys', 'description__998': 'Olive brown solid mid-rise trousers, button & zip closure, and 5 pockets', 'brand__998': 'Pepe Jeans', 'color__998': ' Brown', 'embeddings__998': '[-0.027219509705901146,0.058847829699516296,0.023329712450504303,-0.0017337054014205933,0.02072208933532238,-0.018440568819642067,-0.0573146529495716 ... (15936 characters truncated) ... 4,0.03804575651884079,-0.014119874686002731,0.017424914985895157,0.013645247556269169,0.05484701693058014,-0.05763758346438408,-0.006658115889877081]', 'n_images__998': 5, 'price__998': 1099, 'pid__998': 10256487, 'added_timestamp__998': datetime.datetime(2023, 11, 2, 23, 23, 54, 305635), 'pname__998': 'Pepe Jeans Boys Olive Brown WALES Regular Fit Solid Corduroy Trousers', 'gender__999': 'Men', 'description__999': 'Navy Blue\\xa0solid straight fit joggers, has an elasticated waistband with drawstring fastening, cuffed hem, three pockets', 'brand__999': 'Genius18', 'color__999': 'Blue', 'embeddings__999': '[-0.02390579879283905,-0.01794501021504402,0.012742976658046246,0.005265546962618828,0.0042920419946312904,-0.03377614915370941,-0.006776270922273397 ... (15929 characters truncated) ... ,-0.0010292900260537863,0.016652166843414307,-0.07023853063583374,0.035513557493686676,0.03317400813102722,-0.02788063883781433,0.010502551682293415]', 'n_images__999': 5, 'price__999': 704, 'pid__999': 10252591, 'added_timestamp__999': datetime.datetime(2023, 11, 2, 23, 23, 54, 305636), 'pname__999': 'Genius18 Men Navy Blue Solid Straight Fit Joggers'}\n",
      "2023-11-02 23:26:51,204 INFO sqlalchemy.engine.Engine INSERT INTO products (pid, pname, brand, gender, price, n_images, description, color, embeddings, added_timestamp) VALUES (%(pid__0)s, %(pname__0)s, %(brand__0)s, %(gender__0)s, %(price__0)s, %(n_images__0)s, %(description__0)s, %(color__0)s, %(embed ... 183670 characters truncated ... _images__999)s, %(description__999)s, %(color__999)s, %(embeddings__999)s, %(added_timestamp__999)s)\n"
     ]
    },
    {
     "name": "stdout",
     "output_type": "stream",
     "text": [
      "2023-11-02 23:26:51,204 INFO sqlalchemy.engine.Engine [insertmanyvalues 12/13 (unordered)] {'gender__0': 'Women', 'description__0': 'Off-white printed T-shirt, has a round neck, and short sleeves', 'brand__0': 'Ginger by Lifestyle', 'color__0': ' White', 'embeddings__0': '[0.03398875519633293,-0.017770588397979736,-0.018633490428328514,0.012555263936519623,-0.025729894638061523,0.014666218310594559,-0.00552805466577410 ... (15911 characters truncated) ... ,-0.0012905055191367865,0.003872204339131713,0.06439074873924255,0.004592626355588436,0.02736963890492916,-0.04005208984017372,-0.026844941079616547]', 'n_images__0': 4, 'price__0': 249, 'pid__0': 10251279, 'added_timestamp__0': datetime.datetime(2023, 11, 2, 23, 23, 54, 305637), 'pname__0': 'Ginger by Lifestyle Women Off-White Printed Round Neck T-shirt', 'gender__1': 'Women', 'description__1': 'Special Technology:SoftFoam+: Cushioned foot bed molds to foot and provides long-lasting step-in comfortDesign Details:A pair of black running sports ... (206 characters truncated) ... e traction from the heel through the forefootCushioned footbedTextured and patterned outsoleWarranty: 3 monthsWarranty provided by brand/manufacturer', 'brand__1': 'Puma', 'color__1': ' Black', 'embeddings__1': '[-0.06305786222219467,-0.015235286206007004,0.003538310993462801,0.04257001355290413,0.0889781191945076,0.005403032060712576,-0.05310480669140816,-0. ... (15926 characters truncated) ... 3579,-0.04553474113345146,0.0418253056704998,-0.08612154424190521,0.04417043179273605,0.03651813790202141,-0.006174241192638874,0.016934867948293686]', 'n_images__1': 7, 'price__1': 2699, 'pid__1': 10248281, 'added_timestamp__1': datetime.datetime(2023, 11, 2, 23, 23, 54, 305639), 'pname__1': 'Puma Women Black Flyer Runner Engineer Knit Running Shoes', 'gender__2': 'Unisex', 'description__2': 'Special technologies:Insole\\xa0SOFTFOAM+ provides extra comfortDesign details:A pair of black running sports shoes, has regular styling, lace-up detailMesh upperCushioned footbedTextured and patterned outsoleWarranty: 3 monthsWarranty provided by brand/manufacturer', 'brand__2': 'Puma', 'color__2': ' Black', 'embeddings__2': '[-0.0380789078772068,-0.004843779373914003,0.015231448225677013,0.03946080431342125,0.06177572160959244,0.0156613327562809,-0.02290235459804535,-0.03 ... (15915 characters truncated) ... 078,-0.05474522337317467,0.03939236328005791,-0.08718444406986237,0.062206994742155075,0.00718173710629344,-0.004899176303297281,0.03825169801712036]', 'n_images__2': 7, 'price__2': 3249, 'pid__2': 10248663, 'added_timestamp__2': datetime.datetime(2023, 11, 2, 23, 23, 54, 305641), 'pname__2': 'Puma Unisex Black Pure Jogger Pro Running Shoes', 'gender__3': 'Boys', 'description__3': 'White and Black printed T-shirt, has a round neck, and short sleeves', 'brand__3': 'Pepe Jeans', 'color__3': ' White', 'embeddings__3': '[0.01052576769143343,0.040078140795230865,0.00034970432170666754,0.01603587158024311,0.01954108104109764,-0.00781647302210331,-0.011542456224560738,0 ... (15917 characters truncated) ... 25,0.01332221832126379,-0.0068409317173063755,0.09998159110546112,0.00475776381790638,0.04260258376598358,-0.03121655434370041,-0.022864848375320435]', 'n_images__3': 4, 'price__3': 449, 'pid__3': 10255563, 'added_timestamp__3': datetime.datetime(2023, 11, 2, 23, 23, 54, 305642), 'pname__3': 'Pepe Jeans Boys White Printed Round Neck T-shirt', 'gender__4': 'Men', 'description__4': 'Blue and Grey printed casual shirt, has a spread collar, long sleeves, button placket, curved hem, and 1 patch pocket', 'brand__4': 'Louis Philippe Sport', 'color__4': 'Blue', 'embeddings__4': '[-0.028050387278199196,-0.006293769460171461,0.024864163249731064,0.044871870428323746,-0.029006658121943474,-0.039342958480119705,-0.023074390366673 ... (15923 characters truncated) ... 96,0.0055110822431743145,0.013552725315093994,-0.05322228744626045,0.04472272843122482,0.04727888107299805,0.023080313578248024,0.022105244919657707]', 'n_images__4': 5, 'price__4': 1209, 'pid__4': 10248867, 'added_timestamp__4': datetime.datetime(2023, 11, 2, 23, 23, 54, 305645), 'pname__4': 'Louis Philippe Sport Men Blue & Grey Slim Fit Printed Casual Shirt' ... 9900 parameters truncated ... 'gender__995': 'Men', 'description__995': 'White and black striped T-shirt, has a polo collar, and short sleeves', 'brand__995': 'Calvin Klein Jeans', 'color__995': ' Black', 'embeddings__995': '[-0.0023026992566883564,0.0712737888097763,0.027016332373023033,0.006191992666572332,0.0018756788922473788,0.0200160201638937,-0.01949760876595974,0. ... (15929 characters truncated) ... 5,-0.007989526726305485,0.008468200452625751,0.021921604871749878,0.011948350816965103,0.02329353056848049,-0.01611865684390068,0.006609576288610697]', 'n_images__995': 5, 'price__995': 2759, 'pid__995': 10267791, 'added_timestamp__995': datetime.datetime(2023, 11, 2, 23, 23, 54, 307371), 'pname__995': 'Calvin Klein Jeans Men White & Black Striped Polo T-shirt', 'gender__996': 'Men', 'description__996': 'A pair of round-toe white sneakers, has regular styling, lace-up detailSynthetic upperCushioned footbedTextured and patterned outsole', 'brand__996': 'Parx', 'color__996': ' White', 'embeddings__996': '[-0.01806972175836563,-0.044834818691015244,0.022968944162130356,0.020129671320319176,-0.015370385721325874,0.03294837102293968,0.026476219296455383, ... (15946 characters truncated) ... 9,-0.01272923406213522,0.023483572527766228,-0.05452856421470642,0.03070979192852974,0.0036162000615149736,0.015023480169475079,0.011485189199447632]', 'n_images__996': 5, 'price__996': 1999, 'pid__996': 10274623, 'added_timestamp__996': datetime.datetime(2023, 11, 2, 23, 23, 54, 307373), 'pname__996': 'Parx Men White Sneakers', 'gender__997': 'Women', 'description__997': 'Silver-Toned and Black Contemporary Earrings and silver-platedSecured with a post and back closure', 'brand__997': 'Studio Voylla', 'color__997': ' Black', 'embeddings__997': '[0.08268541842699051,-0.061480581760406494,0.007384695578366518,0.008016957901418209,-0.04226519539952278,-0.010366760194301605,0.03112030401825905,0 ... (15944 characters truncated) ... 0.018361179158091545,-0.009043924510478973,-0.057597436010837555,0.02480665035545826,0.05364310368895531,-0.025767140090465546,-0.007886962033808231]', 'n_images__997': 4, 'price__997': 375, 'pid__997': 10274905, 'added_timestamp__997': datetime.datetime(2023, 11, 2, 23, 23, 54, 307375), 'pname__997': 'Studio Voylla Silver-Toned & Black Silver-Plated Contemporary Jhumkas', 'gender__998': 'Women', 'description__998': 'Coral pink self-design woven regular top, has a round neck, sleeveless, attached lining and button closure', 'brand__998': 'Vero Moda', 'color__998': ' Pink', 'embeddings__998': '[-0.00036345806438475847,0.011502232402563095,-0.02851969003677368,-0.017939237877726555,0.011319716461002827,-0.02324805222451687,-0.020408775657415 ... (15962 characters truncated) ... ,0.014316096901893616,0.02372729778289795,0.0595083124935627,-0.0013693287037312984,-0.007178582716733217,0.0009957383153960109,-0.01140260323882103]', 'n_images__998': 7, 'price__998': 699, 'pid__998': 10275121, 'added_timestamp__998': datetime.datetime(2023, 11, 2, 23, 23, 54, 307376), 'pname__998': 'Vero Moda Women Coral Pink Self Design Top', 'gender__999': 'Women', 'description__999': 'What it is:Michael Kors Midnight Shimmer is sparkling and captivating. Its the perfect finishing touch for her before a glamorous night out. Midnight ... (342 characters truncated) ... arm embrace. The tempting ambiance continues as jasmine petals fall in the heart, their seductive trail accentuated by a smooth, creamy vanilla base.', 'brand__999': 'Michael Kors', 'color__999': nan, 'embeddings__999': '[0.05652354657649994,-0.009463584050536156,0.0038637197576463223,-0.006886467803269625,-0.04595411568880081,-0.008176354691386223,0.01529223937541246 ... (15946 characters truncated) ... 014648012816905975,-0.029030494391918182,-0.05484381690621376,-0.015366928651928902,-0.012184332124888897,-0.01945328712463379,-0.024530503898859024]', 'n_images__999': 2, 'price__999': 6750, 'pid__999': 10266653, 'added_timestamp__999': datetime.datetime(2023, 11, 2, 23, 23, 54, 307378), 'pname__999': 'Michael Kors Women Midnight Shimmer Eau de Parfum 100 ml'}\n"
     ]
    },
    {
     "name": "stdout",
     "output_type": "stream",
     "text": [
      "2023-11-02 23:27:01,152 INFO sqlalchemy.engine.Engine INSERT INTO products (pid, pname, brand, gender, price, n_images, description, color, embeddings, added_timestamp) VALUES (%(pid__0)s, %(pname__0)s, %(brand__0)s, %(gender__0)s, %(price__0)s, %(n_images__0)s, %(description__0)s, %(color__0)s, %(embed ... 89505 characters truncated ... _images__490)s, %(description__490)s, %(color__490)s, %(embeddings__490)s, %(added_timestamp__490)s)\n",
      "2023-11-02 23:27:01,154 INFO sqlalchemy.engine.Engine [insertmanyvalues 13/13 (unordered)] {'gender__0': 'Women', 'description__0': 'Silver-plated and brown oxidised choker necklaceMaterial: BrassClosure: Drawstring', 'brand__0': 'Studio Voylla', 'color__0': ' Silver', 'embeddings__0': '[0.03860096633434296,-0.017212416976690292,0.02027895115315914,0.023260440677404404,-0.06281744688749313,0.01755242608487606,0.028972279280424118,0.0 ... (15924 characters truncated) ... 0.020726582035422325,-0.008267114870250225,0.0028507686220109463,0.049157314002513885,0.03163228929042816,-0.10364728420972824,-0.014275509864091873]', 'n_images__0': 4, 'price__0': 3475, 'pid__0': 10274855, 'added_timestamp__0': datetime.datetime(2023, 11, 2, 23, 23, 54, 307379), 'pname__0': 'Studio voylla Women Silver-Plated Oxidised Choker', 'gender__1': 'Women', 'description__1': 'Pack of two full-coverage bras in pink and purpleEach bra\\xa0has non-padded and non-wired cups, a bow detail on the centre front, elasticated and\\xa0 ... (37 characters truncated) ... eye closure on the back for an adjustable fit Owing to intimate nature of this product it is eligible for self-ship return only (no pick-up facility)', 'brand__1': 'Sonari', 'color__1': nan, 'embeddings__1': '[0.014078730717301369,-0.0781557634472847,-0.041848380118608475,0.008022086694836617,-0.019467942416667938,0.015128537081182003,0.06657712906599045,0 ... (15889 characters truncated) ... ,0.0355573371052742,-0.014514672569930553,-0.05841837078332901,0.0026461658999323845,0.045559145510196686,-0.019450999796390533,-0.03203367441892624]', 'n_images__1': 4, 'price__1': 750, 'pid__1': 1026769, 'added_timestamp__1': datetime.datetime(2023, 11, 2, 23, 23, 54, 307380), 'pname__1': 'Sonari Pack of 2 Bras afreen', 'gender__2': 'Men', 'description__2': 'PRODUCT DESIGN DETAILS:A pair of grey & green running sports shoes, has regular styling, lace-up detailMesh upperCushioned footbedTextured and patterned outsoleWarranty: 3 monthsWarranty provided by brand/manufacturer', 'brand__2': 'Puma', 'color__2': ' Grey', 'embeddings__2': '[-0.04264257475733757,-0.031088685616850853,0.004452727735042572,0.057214993983507156,0.048509009182453156,0.005786488763988018,0.0004222482093609869 ... (15937 characters truncated) ... 5438,-0.005603443831205368,0.03733640909194946,-0.06715325266122818,0.0633736401796341,0.006532410159707069,0.008326498791575432,0.03338751196861267]', 'n_images__2': 4, 'price__2': 2274, 'pid__2': 10262125, 'added_timestamp__2': datetime.datetime(2023, 11, 2, 23, 23, 54, 307382), 'pname__2': 'Puma Men Grey Mesh Running Shoes', 'gender__3': 'Men', 'description__3': 'A pair of round-toe brown sneakers, has regular styling, lace-up detailSynthetic Leather upperComfort footbedHigh shock absorptionTextured and patterned outsoleWarranty: 3 monthsWarranty provided by brand/manufacturer', 'brand__3': 'Levis', 'color__3': ' Brown', 'embeddings__3': '[-0.054202381521463394,-0.018825368955731392,0.01943965256214142,0.015789849683642387,0.016921518370509148,-0.0009564608917571604,-0.0136472359299659 ... (15915 characters truncated) ... 398,-0.011916181072592735,0.03937770426273346,-0.09522663801908493,0.03289667144417763,0.012469902634620667,-0.0095979580655694,-0.01016201265156269]', 'n_images__3': 7, 'price__3': 1399, 'pid__3': 10266823, 'added_timestamp__3': datetime.datetime(2023, 11, 2, 23, 23, 54, 307383), 'pname__3': 'Levis Men Brown Sneakers', 'gender__4': 'Men', 'description__4': 'Blue solid T-shirt with grindle effect, has a polo collar, and short sleeves Design Details-PEPE JEANS MENS POLO.HIGH DENSITY LOGO PRINT.GRINDLE PIQUE FABRIC.REGULAR FIT.SHORT SLEEVE.SOFT WASHED.', 'brand__4': 'Pepe Jeans', 'color__4': 'Blue', 'embeddings__4': '[-0.002324931789189577,0.024362687021493912,0.020158493891358376,-0.00978074874728918,0.00786270946264267,-0.012749682180583477,-0.03389092907309532, ... (15905 characters truncated) ... 2,0.012971713207662106,0.004975973628461361,0.030723150819540024,0.03421977907419205,0.030705951154232025,-0.018354343250393867,0.012696989811956882]', 'n_images__4': 5, 'price__4': 749, 'pid__4': 10265139, 'added_timestamp__4': datetime.datetime(2023, 11, 2, 23, 23, 54, 307385), 'pname__4': 'Pepe Jeans Men Blue Solid Polo Collar T-shirt' ... 4810 parameters truncated ... 'gender__486': 'Men', 'description__486': 'Black dark wash 5-pocket low-rise jeans, clean look, no fade, has a button and zip closure, and waistband with belt loops Design Details-73 FASHION- SIGNARATURE BRAND CARRIER STYLISED 5 POCKET SLIM FIT- MID RISE  JEANS,  RINSE BLACK- NON FADED- CLEAN LOOK,  ZIP FLY & 5 BELT LOOPS', 'brand__486': 'Pepe Jeans', 'color__486': ' Black', 'embeddings__486': '[-0.05632640793919563,0.08870886266231537,0.016876090317964554,-0.04906541109085083,0.018411705270409584,-0.02635147236287594,-0.04954589158296585,0. ... (15949 characters truncated) ... 0089,0.007654080633074045,0.015328103676438332,0.01137645822018385,0.011400139890611172,0.06291113793849945,-0.0360761359333992,-0.02336135134100914]', 'n_images__486': 7, 'price__486': 1299, 'pid__486': 10262843, 'added_timestamp__486': datetime.datetime(2023, 11, 2, 23, 23, 54, 308151), 'pname__486': 'Pepe Jeans Men Black Hammock Slim Fit Low-Rise Clean Look Stretchable Jeans', 'gender__487': 'Women', 'description__487': 'A pair of gold-toned open toe heels, has regular styling, open back detailSynthetic upperCushioned footbedTextured and patterned outsole, has a block heelWarranty: 1 monthWarranty provided by brand/manufacturer', 'brand__487': 'Mochi', 'color__487': ' Gold', 'embeddings__487': '[-0.00839783251285553,0.01193640660494566,-0.009167125448584557,0.005911428015679121,0.037600405514240265,0.023194314911961555,-0.04386602342128754,0 ... (15912 characters truncated) ... 0.012695667333900928,0.0009191371500492096,-0.06660553812980652,-0.028593791648745537,0.07472275197505951,0.0019338567508384585,0.002172366250306368]', 'n_images__487': 5, 'price__487': 1990, 'pid__487': 10261721, 'added_timestamp__487': datetime.datetime(2023, 11, 2, 23, 23, 54, 308153), 'pname__487': 'Mochi Women Gold-Toned Solid Heels', 'gender__488': 'Girls', 'description__488': 'Navy Blue and White printed mid-rise denim shorts, has 5 pockets, and button closure', 'brand__488': '612 league', 'color__488': 'Blue', 'embeddings__488': '[-0.01744007132947445,0.005135334096848965,0.03469604626297951,0.01660025864839554,0.0011699029710143805,-0.023928076028823853,-0.01333889365196228,0 ... (15944 characters truncated) ... 45,-0.019595909863710403,-0.0018000209238380194,-0.02580554224550724,0.01932627521455288,0.075884610414505,0.004733063746243715,0.004143076948821545]', 'n_images__488': 4, 'price__488': 602, 'pid__488': 10261607, 'added_timestamp__488': datetime.datetime(2023, 11, 2, 23, 23, 54, 308154), 'pname__488': '612 league Girls Navy Blue & White Printed Regular Fit Denim Shorts', 'gender__489': 'Men', 'description__489': 'Bvlgari Men Aqva Pour Homme Marine Eau de Toilette', 'brand__489': 'Bvlgari', 'color__489': nan, 'embeddings__489': '[0.024025551974773407,-0.03225687891244888,0.0004905633977614343,-0.017418082803487778,-0.0075182728469371796,0.0062065087258815765,0.033099438995122 ... (15914 characters truncated) ... 496,0.03076140396296978,-0.03550822660326958,0.00425644451752305,0.024301763623952866,-0.024265320971608162,-0.0338168740272522,-0.03226426616311073]', 'n_images__489': 2, 'price__489': 8950, 'pid__489': 10266621, 'added_timestamp__489': datetime.datetime(2023, 11, 2, 23, 23, 54, 308156), 'pname__489': 'Bvlgari Men Aqva Pour Homme Marine Eau de Toilette 150ml', 'gender__490': 'Men', 'description__490': 'Black and grey striped T-shirt, has a polo collar, and short sleeves Design Details-PEPE JEANS MENS POLO.SPACE DYED JERSEY FABRIC.HIGH DENSITY PRINT.REGULAR FIT.SHORT SLEEVE.SOFT WASHED.', 'brand__490': 'Pepe Jeans', 'color__490': ' Black', 'embeddings__490': '[0.007362572941929102,0.027543608099222183,0.020510531961917877,0.001410320750437677,0.010224823839962482,-0.0004635121440514922,-0.03585422039031982 ... (15934 characters truncated) ... 0.013539201579988003,-0.005365729797631502,0.03301161527633667,0.026948971673846245,0.050735604017972946,-0.013942946679890156,0.0030994201079010963]', 'n_images__490': 5, 'price__490': 799, 'pid__490': 10265199, 'added_timestamp__490': datetime.datetime(2023, 11, 2, 23, 23, 54, 308157), 'pname__490': 'Pepe Jeans Men Black & Grey Striped Polo Collar T-shirt'}\n"
     ]
    },
    {
     "name": "stdout",
     "output_type": "stream",
     "text": [
      "2023-11-02 23:27:13,856 INFO sqlalchemy.engine.Engine COMMIT\n"
     ]
    }
   ],
   "source": [
    "with Session(engine) as session:\n",
    "    session.execute(sqlalchemy.insert(Products), df_dict)\n",
    "    session.commit()"
   ]
  },
  {
   "cell_type": "code",
   "execution_count": 48,
   "id": "f618874e",
   "metadata": {},
   "outputs": [
    {
     "name": "stdout",
     "output_type": "stream",
     "text": [
      "2023-11-02 23:30:56,542 INFO sqlalchemy.engine.Engine select pg_catalog.version()\n",
      "2023-11-02 23:30:56,544 INFO sqlalchemy.engine.Engine [raw sql] {}\n",
      "2023-11-02 23:30:57,474 INFO sqlalchemy.engine.Engine select current_schema()\n",
      "2023-11-02 23:30:57,476 INFO sqlalchemy.engine.Engine [raw sql] {}\n",
      "2023-11-02 23:30:58,180 INFO sqlalchemy.engine.Engine show standard_conforming_strings\n",
      "2023-11-02 23:30:58,181 INFO sqlalchemy.engine.Engine [raw sql] {}\n",
      "2023-11-02 23:30:59,002 INFO sqlalchemy.engine.Engine BEGIN (implicit)\n",
      "2023-11-02 23:30:59,005 INFO sqlalchemy.engine.Engine SELECT count(*) from products;\n",
      "2023-11-02 23:30:59,007 INFO sqlalchemy.engine.Engine [generated in 0.00255s] {}\n",
      "2023-11-02 23:30:59,864 INFO sqlalchemy.engine.Engine ROLLBACK\n"
     ]
    },
    {
     "data": {
      "text/plain": [
       "[12491]"
      ]
     },
     "execution_count": 48,
     "metadata": {},
     "output_type": "execute_result"
    }
   ],
   "source": [
    "with Session(engine) as session:\n",
    "    stmt = sqlalchemy.text(\"SELECT count(*) from products;\")\n",
    "    stmt_response = session.scalars(stmt).first()\n",
    "    \n",
    "stmt_response"
   ]
  },
  {
   "cell_type": "markdown",
   "id": "f85b14d9",
   "metadata": {},
   "source": [
    "**Getting recommendations**"
   ]
  },
  {
   "cell_type": "code",
   "execution_count": 80,
   "id": "ee14f315",
   "metadata": {},
   "outputs": [],
   "source": [
    "server.start()\n",
    "\n",
    "engine = sqlalchemy.create_engine(\n",
    "    f\"\"\"postgresql+psycopg2://{dbuser}:\"\"\"\n",
    "    f\"\"\"{dbpass}@{server.local_bind_host}:\"\"\"\n",
    "    f\"\"\"{server.local_bind_port}/feature_store\"\"\",\n",
    "    echo=False,\n",
    ")"
   ]
  },
  {
   "cell_type": "code",
   "execution_count": 81,
   "id": "ad892d7a",
   "metadata": {},
   "outputs": [],
   "source": [
    "query_emb = embedding_model.encode(\"dress for office party for women\")"
   ]
  },
  {
   "cell_type": "code",
   "execution_count": 82,
   "id": "40e1fa5b",
   "metadata": {},
   "outputs": [],
   "source": [
    "with Session(engine) as session:\n",
    "    stmt = sqlalchemy.select(Products.pid).order_by(Products.embeddings.l2_distance(query_emb)).limit(10)\n",
    "    stmt_response = session.scalars(stmt).all()"
   ]
  },
  {
   "cell_type": "code",
   "execution_count": 83,
   "id": "bf47953c",
   "metadata": {},
   "outputs": [
    {
     "data": {
      "text/plain": [
       "[10273987,\n",
       " 10274029,\n",
       " 10233311,\n",
       " 10233281,\n",
       " 10086107,\n",
       " 10015997,\n",
       " 10207393,\n",
       " 10082953,\n",
       " 10051325,\n",
       " 10189591]"
      ]
     },
     "execution_count": 83,
     "metadata": {},
     "output_type": "execute_result"
    }
   ],
   "source": [
    "stmt_response"
   ]
  },
  {
   "cell_type": "code",
   "execution_count": 84,
   "id": "fc8cbbc2",
   "metadata": {},
   "outputs": [
    {
     "data": {
      "text/plain": [
       "array(['Tokyo Talkies Women Black & Red Floral Print Fit and Flare Dress',\n",
       "       'Tokyo Talkies Women Navy Blue Sheath Dress',\n",
       "       'Tokyo Talkies Women Green Floral Print Fit and Flare Dress',\n",
       "       'Tokyo Talkies Women Black & White Fit and Flare Dress',\n",
       "       'Tokyo Talkies Women Pink & Blue Floral Print Fit and Flare Dress',\n",
       "       'W Women Green & Peach-Coloured Printed Maxi Dress',\n",
       "       'AND Women Navy Embellished Maxi Dress',\n",
       "       'AND Women Navy Blue Floral Printed Fit and Flare Dress',\n",
       "       'ONLY Women Red & Black Shirt Dress',\n",
       "       'ONLY Women Green & Black Shirt Dress'], dtype=object)"
      ]
     },
     "execution_count": 84,
     "metadata": {},
     "output_type": "execute_result"
    }
   ],
   "source": [
    "raw_df.loc[\n",
    "    raw_df[\"ProductID\"].isin(stmt_response),\n",
    "    \"ProductName\"\n",
    "].values"
   ]
  },
  {
   "cell_type": "code",
   "execution_count": 86,
   "id": "85663b8e",
   "metadata": {},
   "outputs": [],
   "source": [
    "server.stop()\n",
    "engine.dispose()"
   ]
  },
  {
   "cell_type": "markdown",
   "id": "a06c6265",
   "metadata": {},
   "source": [
    "***"
   ]
  }
 ],
 "metadata": {
  "kernelspec": {
   "display_name": "Python OR Kernel",
   "language": "python",
   "name": "or"
  },
  "language_info": {
   "codemirror_mode": {
    "name": "ipython",
    "version": 3
   },
   "file_extension": ".py",
   "mimetype": "text/x-python",
   "name": "python",
   "nbconvert_exporter": "python",
   "pygments_lexer": "ipython3",
   "version": "3.9.16"
  }
 },
 "nbformat": 4,
 "nbformat_minor": 5
}
