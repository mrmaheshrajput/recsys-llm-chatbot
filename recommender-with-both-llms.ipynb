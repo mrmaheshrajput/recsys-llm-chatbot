{
 "cells": [
  {
   "cell_type": "markdown",
   "id": "138b8c5e",
   "metadata": {},
   "source": [
    "***"
   ]
  },
  {
   "cell_type": "markdown",
   "id": "a12d1f45",
   "metadata": {},
   "source": [
    "## Testing First LLM context generation skills"
   ]
  },
  {
   "cell_type": "markdown",
   "id": "0b326a62",
   "metadata": {},
   "source": [
    "### You can use chatgpt, sagemaker llama 2, huggingface text generation interface or invoke any other endpoint"
   ]
  },
  {
   "cell_type": "code",
   "execution_count": 20,
   "id": "c8b76eff",
   "metadata": {},
   "outputs": [],
   "source": [
    "from openai import OpenAI"
   ]
  },
  {
   "cell_type": "code",
   "execution_count": 21,
   "id": "fc8715f5",
   "metadata": {},
   "outputs": [],
   "source": [
    "client = OpenAI(\n",
    "    api_key=\"\"\n",
    ")"
   ]
  },
  {
   "cell_type": "code",
   "execution_count": 22,
   "id": "b12b3744",
   "metadata": {},
   "outputs": [],
   "source": [
    "with open(\"openai-prompt\", \"r\") as f:\n",
    "    recsys_llm_prompt = f.read()"
   ]
  },
  {
   "cell_type": "code",
   "execution_count": 23,
   "id": "1f4f06c9",
   "metadata": {},
   "outputs": [],
   "source": [
    "def get_openai_context(prompt:str, chat_history:str) -> str:\n",
    "    \"\"\"Get context from OpenAI model.\"\"\"\n",
    "    response = client.chat.completions.create(\n",
    "        model=\"gpt-3.5-turbo\",\n",
    "        messages=[\n",
    "            {\"role\": \"system\", \"content\": prompt},\n",
    "            {\"role\": \"user\", \"content\": chat_history}\n",
    "        ],\n",
    "        temperature=1,\n",
    "    )\n",
    "    return response.choices[0].message.content"
   ]
  },
  {
   "cell_type": "code",
   "execution_count": 9,
   "id": "8d1864e2",
   "metadata": {},
   "outputs": [
    {
     "data": {
      "text/plain": [
       "'I recommend the following formal shirts for you:\\n- Dress shirt\\n- Button-down shirt\\n- Oxford shirt\\n- Wingtip collar shirt\\n- French cuff shirt'"
      ]
     },
     "execution_count": 9,
     "metadata": {},
     "output_type": "execute_result"
    }
   ],
   "source": [
    "get_openai_context(recsys_llm_prompt, \"pick shirts formal wear\")"
   ]
  },
  {
   "cell_type": "code",
   "execution_count": 10,
   "id": "d628e4ca",
   "metadata": {},
   "outputs": [
    {
     "data": {
      "text/plain": [
       "\"For your brother's wedding, you can consider wearing traditional Indian attire such as a Sherwani or a Kurta-pajama. You can also opt for a bandhgala suit or a formal suit. It's a special occasion, so make sure to choose something elegant and well-tailored.\""
      ]
     },
     "execution_count": 10,
     "metadata": {},
     "output_type": "execute_result"
    }
   ],
   "source": [
    "get_openai_context(recsys_llm_prompt, \"What should I wear for my brother's wedding?\")"
   ]
  },
  {
   "cell_type": "code",
   "execution_count": 11,
   "id": "8dcbb3cb",
   "metadata": {},
   "outputs": [
    {
     "data": {
      "text/plain": [
       "'##detail##'"
      ]
     },
     "execution_count": 11,
     "metadata": {},
     "output_type": "execute_result"
    }
   ],
   "source": [
    "get_openai_context(recsys_llm_prompt, \"What is the price of item no. 3?\")"
   ]
  },
  {
   "cell_type": "markdown",
   "id": "65a1cf35",
   "metadata": {},
   "source": [
    "## Testing 2nd LLM"
   ]
  },
  {
   "cell_type": "code",
   "execution_count": 13,
   "id": "c6bbe2ab",
   "metadata": {},
   "outputs": [],
   "source": [
    "import datetime\n",
    "import os\n",
    "\n",
    "import pandas as pd\n",
    "import numpy as np\n",
    "# import psycopg2 \n",
    "from pgvector.sqlalchemy import Vector\n",
    "import sshtunnel\n",
    "import sqlalchemy\n",
    "from sqlalchemy import Integer, String, TIMESTAMP, Float\n",
    "from sqlalchemy.orm import DeclarativeBase,mapped_column,Session\n",
    "from sentence_transformers import SentenceTransformer"
   ]
  },
  {
   "cell_type": "markdown",
   "id": "0f15de0a",
   "metadata": {},
   "source": [
    "<font color=\"blue\">Because I was using Aurora Serverless which can only be access from inside VPC, I had to setup SSH tunnel to an ec2 instance that had access to database.</font>"
   ]
  },
  {
   "cell_type": "code",
   "execution_count": 14,
   "id": "935b9c32",
   "metadata": {},
   "outputs": [],
   "source": [
    "ec2_url = \"\"\n",
    "\n",
    "dbhost = \"\"\n",
    "dbport = 1111\n",
    "dbuser = \"\"\n",
    "dbpass = \"\"\n",
    "\n",
    "server = sshtunnel.SSHTunnelForwarder(\n",
    "    ssh_address_or_host=(ec2_url, 22),\n",
    "    ssh_username=\"\",\n",
    "    ssh_pkey=\"\",\n",
    "    remote_bind_address=(dbhost, dbport),\n",
    "    local_bind_address=(\"localhost\", 5433),\n",
    ")"
   ]
  },
  {
   "cell_type": "markdown",
   "id": "8b9f8e3b",
   "metadata": {},
   "source": [
    "### I used SQLAlchemy model, you can use native psycopg2 and SQL for querying ANN"
   ]
  },
  {
   "cell_type": "code",
   "execution_count": 15,
   "id": "38a8283f",
   "metadata": {},
   "outputs": [],
   "source": [
    "EMBEDDINGS_LENGTH = 768\n",
    "\n",
    "class Base(DeclarativeBase):\n",
    "    pass\n",
    "\n",
    "class Products(Base):\n",
    "    __tablename__ = \"products\"\n",
    "    __table_args__ = {'extend_existing': True}\n",
    "\n",
    "    pid = mapped_column(Integer, primary_key=True)\n",
    "    pname = mapped_column(String)\n",
    "    brand = mapped_column(String)\n",
    "    gender = mapped_column(String)\n",
    "    price = mapped_column(Float)\n",
    "    n_images = mapped_column(Integer)\n",
    "    description = mapped_column(String)\n",
    "    color = mapped_column(String)\n",
    "    embeddings = mapped_column(Vector(EMBEDDINGS_LENGTH))\n",
    "    added_timestamp = mapped_column(TIMESTAMP)"
   ]
  },
  {
   "cell_type": "code",
   "execution_count": 16,
   "id": "e8706759",
   "metadata": {},
   "outputs": [],
   "source": [
    "model = SentenceTransformer(\"./embedding_model\")"
   ]
  },
  {
   "cell_type": "code",
   "execution_count": 17,
   "id": "ddd8aac1",
   "metadata": {},
   "outputs": [],
   "source": [
    "def generate_query_embeddings(user_message:str, embedding_model):\n",
    "    \"\"\"Generate user message embeddings.\"\"\"\n",
    "    openai_context = get_openai_context(recsys_llm_prompt, user_message)\n",
    "    \n",
    "    query_emb = embedding_model.encode(user_message + \" \" + openai_context)\n",
    "    \n",
    "    return query_emb"
   ]
  },
  {
   "cell_type": "code",
   "execution_count": 18,
   "id": "99b3ceb0",
   "metadata": {},
   "outputs": [],
   "source": [
    "def query_product_names_from_embeddings(query_emb, engine, Table, top_k):\n",
    "    \"\"\"Search ANN products using embeddings.\"\"\"\n",
    "    with Session(engine) as session:\n",
    "        stmt = sqlalchemy.select(\n",
    "            Table.pid, Table.pname, Table.brand, Table.gender, Table.gender, Table.price, Table.description, Table.color\n",
    "        ).order_by(Table.embeddings.l2_distance(query_emb)).limit(top_k)\n",
    "        stmt_response = session.execute(stmt).mappings().all()\n",
    "        \n",
    "    return stmt_response"
   ]
  },
  {
   "cell_type": "code",
   "execution_count": 19,
   "id": "eb763f59",
   "metadata": {},
   "outputs": [],
   "source": [
    "def get_recommendations(user_message:str, embedding_model, engine, Table, top_k=5):\n",
    "    \"\"\"Get recommendations.\"\"\"\n",
    "    embeddings = generate_query_embeddings(user_message, embedding_model)\n",
    "    \n",
    "    p_names = query_product_names_from_embeddings(embeddings, engine, Table, top_k)\n",
    "    \n",
    "    return p_names"
   ]
  },
  {
   "cell_type": "code",
   "execution_count": 24,
   "id": "320f82d2",
   "metadata": {},
   "outputs": [],
   "source": [
    "server.start()\n",
    "\n",
    "engine = sqlalchemy.create_engine(\n",
    "    f\"\"\"postgresql+psycopg2://{dbuser}:\"\"\"\n",
    "    f\"\"\"{dbpass}@{server.local_bind_host}:\"\"\"\n",
    "    f\"\"\"{server.local_bind_port}/feature_store\"\"\",\n",
    "    echo=False,\n",
    ")"
   ]
  },
  {
   "cell_type": "code",
   "execution_count": 25,
   "id": "6fd1fc66",
   "metadata": {},
   "outputs": [],
   "source": [
    "response = get_recommendations(\"pink strip shirts for men\", model, engine, Products)"
   ]
  },
  {
   "cell_type": "code",
   "execution_count": 83,
   "id": "a654d394",
   "metadata": {},
   "outputs": [
    {
     "data": {
      "text/plain": [
       "[{'pid': 10237377, 'pname': 'I AM FOR YOU Women Red & Off-White Checked Shirt Style Top', 'brand': 'I AM FOR YOU', 'gender': 'Women', 'gender_1': 'Women', 'price': 662.0, 'description': 'Red, off-white and teal blue checked woven shirt style top, has a shirt collar, long sleeves, short button placket, one pocket, curved hem', 'color': ' Red'},\n",
       " {'pid': 10197533, 'pname': 'The Pink Moon Plus Size Women White  Blue Regular Fit Striped Casual Shirt', 'brand': 'The Pink Moon', 'gender': 'Women', 'gender_1': 'Women', 'price': 1999.0, 'description': 'White and blue striped casual shirt, has a spread collar, long sleeves, button placket, and curved hem, 2 insert pockets', 'color': 'Blue'},\n",
       " {'pid': 10266737, 'pname': 'ONLY Women Red & White Regular Fit Printed Casual Shirt', 'brand': 'ONLY', 'gender': 'Women', 'gender_1': 'Women', 'price': 919.0, 'description': 'Red and white printed casual shirt, has a spread collar, long sleeves, button placket, curved hem,1 patch pocket', 'color': ' Red'},\n",
       " {'pid': 10266699, 'pname': 'ONLY Women Navy Blue & Mustard Brown Regular Fit Striped Casual Shirt', 'brand': 'ONLY', 'gender': 'Women', 'gender_1': 'Women', 'price': 1119.0, 'description': 'Navy blue and mustard brown striped casual shirt, has a spread collar, long sleeves, concealed button placket, curved hem, and 2 flap pockets', 'color': 'Blue'},\n",
       " {'pid': 10018841, 'pname': 'Raymond Men Pink Regular Fit Striped Formal Shirt', 'brand': 'Raymond', 'gender': 'Men', 'gender_1': 'Men', 'price': 1649.0, 'description': 'Pink striped formal shirt, has a spread collar, long sleeves, button placket, straight hem, and 1 patch pocket', 'color': ' Pink'}]"
      ]
     },
     "execution_count": 83,
     "metadata": {},
     "output_type": "execute_result"
    }
   ],
   "source": [
    "response"
   ]
  },
  {
   "cell_type": "markdown",
   "id": "4b11966b",
   "metadata": {},
   "source": [
    "***"
   ]
  },
  {
   "cell_type": "code",
   "execution_count": 13,
   "id": "a5921087",
   "metadata": {},
   "outputs": [],
   "source": [
    "second_llm_prompt = (\n",
    "    \"\"\"\n",
    "    You can recommendation engine chatbot agent for an Indian apparel brand.\n",
    "    You are provided with users questions and some apparel recommendations from the brand's database.\n",
    "    Your job is to present the most relevant items from the data give to you.\n",
    "    If user is asking a clarifying question about one of the recommended item, like what is it's price or brand, then answer that question from its description.\n",
    "    Do not answer anything else apart from apparel recommendation from the company's database.\n",
    "    \"\"\"\n",
    ")"
   ]
  },
  {
   "cell_type": "code",
   "execution_count": 5,
   "id": "e4205a95",
   "metadata": {},
   "outputs": [],
   "source": [
    "def get_openai_context(prompt:str, chat_history:str) -> str:\n",
    "    \"\"\"Get context from OpenAI model.\"\"\"\n",
    "    response = client.chat.completions.create(\n",
    "        model=\"gpt-3.5-turbo\",\n",
    "        messages=[\n",
    "            {\"role\": \"system\", \"content\": prompt},\n",
    "            {\"role\": \"user\", \"content\": chat_history}\n",
    "        ],\n",
    "        temperature=1,\n",
    "    )\n",
    "    return response.choices[0].message.content"
   ]
  },
  {
   "cell_type": "code",
   "execution_count": 6,
   "id": "0ecccaf5",
   "metadata": {},
   "outputs": [],
   "source": [
    "user_query = \"pink strip shirts for men\""
   ]
  },
  {
   "cell_type": "code",
   "execution_count": 7,
   "id": "03124e88",
   "metadata": {},
   "outputs": [],
   "source": [
    "recommendations = [{'pid': 10237377, 'pname': 'I AM FOR YOU Women Red & Off-White Checked Shirt Style Top', 'brand': 'I AM FOR YOU', 'gender': 'Women', 'gender_1': 'Women', 'price': 662.0, 'description': 'Red, off-white and teal blue checked woven shirt style top, has a shirt collar, long sleeves, short button placket, one pocket, curved hem', 'color': ' Red'},\n",
    " {'pid': 10197533, 'pname': 'The Pink Moon Plus Size Women White  Blue Regular Fit Striped Casual Shirt', 'brand': 'The Pink Moon', 'gender': 'Women', 'gender_1': 'Women', 'price': 1999.0, 'description': 'White and blue striped casual shirt, has a spread collar, long sleeves, button placket, and curved hem, 2 insert pockets', 'color': 'Blue'},\n",
    " {'pid': 10266737, 'pname': 'ONLY Women Red & White Regular Fit Printed Casual Shirt', 'brand': 'ONLY', 'gender': 'Women', 'gender_1': 'Women', 'price': 919.0, 'description': 'Red and white printed casual shirt, has a spread collar, long sleeves, button placket, curved hem,1 patch pocket', 'color': ' Red'},\n",
    " {'pid': 10266699, 'pname': 'ONLY Women Navy Blue & Mustard Brown Regular Fit Striped Casual Shirt', 'brand': 'ONLY', 'gender': 'Women', 'gender_1': 'Women', 'price': 1119.0, 'description': 'Navy blue and mustard brown striped casual shirt, has a spread collar, long sleeves, concealed button placket, curved hem, and 2 flap pockets', 'color': 'Blue'},\n",
    " {'pid': 10018841, 'pname': 'Raymond Men Pink Regular Fit Striped Formal Shirt', 'brand': 'Raymond', 'gender': 'Men', 'gender_1': 'Men', 'price': 1649.0, 'description': 'Pink striped formal shirt, has a spread collar, long sleeves, button placket, straight hem, and 1 patch pocket', 'color': ' Pink'}]"
   ]
  },
  {
   "cell_type": "code",
   "execution_count": 14,
   "id": "d07b6ac5",
   "metadata": {},
   "outputs": [
    {
     "data": {
      "text/plain": [
       "'Based on your query for \"pink striped shirts for men\", I have found a recommendation for you:\\n\\n- Raymond Men Pink Regular Fit Striped Formal Shirt: This pink striped formal shirt for men has a spread collar, long sleeves, button placket, straight hem, and 1 patch pocket. It is priced at Rs. 1649.0.\\n\\nPlease let me know if you have any further questions about this item.'"
      ]
     },
     "execution_count": 14,
     "metadata": {},
     "output_type": "execute_result"
    }
   ],
   "source": [
    "get_openai_context(second_llm_prompt, f\"User question = '{user_query}', our recommendations = {recommendations}\")"
   ]
  },
  {
   "cell_type": "code",
   "execution_count": 80,
   "id": "08fb98cf",
   "metadata": {},
   "outputs": [],
   "source": [
    "server.stop()\n",
    "engine.dispose()"
   ]
  },
  {
   "cell_type": "markdown",
   "id": "8aca1355",
   "metadata": {},
   "source": [
    "***"
   ]
  }
 ],
 "metadata": {
  "kernelspec": {
   "display_name": "Python OR Kernel",
   "language": "python",
   "name": "or"
  },
  "language_info": {
   "codemirror_mode": {
    "name": "ipython",
    "version": 3
   },
   "file_extension": ".py",
   "mimetype": "text/x-python",
   "name": "python",
   "nbconvert_exporter": "python",
   "pygments_lexer": "ipython3",
   "version": "3.9.16"
  }
 },
 "nbformat": 4,
 "nbformat_minor": 5
}
